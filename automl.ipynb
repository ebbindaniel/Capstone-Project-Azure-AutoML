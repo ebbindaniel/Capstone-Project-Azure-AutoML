{
  "cells": [
    {
      "attachments": {},
      "cell_type": "markdown",
      "metadata": {},
      "source": [
        "# Automated ML\n",
        "\n"
      ]
    },
    {
      "cell_type": "code",
      "execution_count": 1,
      "metadata": {
        "gather": {
          "logged": 1681187425534
        },
        "jupyter": {
          "outputs_hidden": false,
          "source_hidden": false
        },
        "nteract": {
          "transient": {
            "deleting": false
          }
        }
      },
      "outputs": [
        {
          "name": "stdout",
          "output_type": "stream",
          "text": [
            "SDK version: 1.49.0\n"
          ]
        }
      ],
      "source": [
        "import logging\n",
        "import os\n",
        "import csv\n",
        "\n",
        "from matplotlib import pyplot as plt\n",
        "import numpy as np\n",
        "import pandas as pd\n",
        "from sklearn import datasets\n",
        "import pkg_resources\n",
        "from azureml.widgets import RunDetails\n",
        "import azureml.core\n",
        "from azureml.core.experiment import Experiment\n",
        "from azureml.core.workspace import Workspace\n",
        "from azureml.train.automl import AutoMLConfig\n",
        "from azureml.core.dataset import Dataset\n",
        "\n",
        "from azureml.pipeline.steps import AutoMLStep\n",
        "\n",
        "# Check core SDK version number\n",
        "print(\"SDK version:\", azureml.core.VERSION)"
      ]
    },
    {
      "attachments": {},
      "cell_type": "markdown",
      "metadata": {},
      "source": [
        "## Workspace & Experiment\n",
        "\n",
        "Connect to the workspace and create an Experiment"
      ]
    },
    {
      "cell_type": "code",
      "execution_count": 2,
      "metadata": {
        "gather": {
          "logged": 1681187467740
        },
        "jupyter": {
          "outputs_hidden": false,
          "source_hidden": false
        },
        "nteract": {
          "transient": {
            "deleting": false
          }
        }
      },
      "outputs": [
        {
          "name": "stdout",
          "output_type": "stream",
          "text": [
            "Performing interactive authentication. Please follow the instructions on the terminal.\n"
          ]
        },
        {
          "name": "stderr",
          "output_type": "stream",
          "text": [
            "The default web browser has been opened at https://login.microsoftonline.com/organizations/oauth2/v2.0/authorize. Please continue the login in the web browser. If no web browser is available or if the web browser fails to open, use device code flow with `az login --use-device-code`.\n"
          ]
        },
        {
          "name": "stdout",
          "output_type": "stream",
          "text": [
            "Interactive authentication successfully completed.\n",
            "quick-starts-ws-234714\n",
            "aml-quickstarts-234714\n",
            "westus2\n",
            "b968fb36-f06a-4c76-a15f-afab68ae7667\n"
          ]
        }
      ],
      "source": [
        "ws = Workspace.from_config()\n",
        "print(ws.name, ws.resource_group, ws.location, ws.subscription_id, sep = '\\n')\n",
        "\n",
        "# choose a name for experiment\n",
        "experiment_name = 'MPG-Prediction'\n",
        "\n",
        "experiment=Experiment(ws, experiment_name)\n"
      ]
    },
    {
      "attachments": {},
      "cell_type": "markdown",
      "metadata": {},
      "source": [
        "### Create or Attach an AmlCompute cluster"
      ]
    },
    {
      "cell_type": "code",
      "execution_count": 3,
      "metadata": {
        "gather": {
          "logged": 1681188086044
        }
      },
      "outputs": [
        {
          "name": "stdout",
          "output_type": "stream",
          "text": [
            "InProgress.\n",
            "SucceededProvisioning operation finished, operation \"Succeeded\"\n",
            "Succeeded.......................................................................................................\n",
            "AmlCompute wait for completion finished\n",
            "\n",
            "Wait timeout has been reached\n",
            "Current provisioning state of AmlCompute is \"Succeeded\" and current node count is \"0\"\n"
          ]
        }
      ],
      "source": [
        "\n",
        "from azureml.core.compute import AmlCompute\n",
        "from azureml.core.compute import ComputeTarget\n",
        "from azureml.core.compute_target import ComputeTargetException\n",
        "\n",
        "# NOTE: update the cluster name to match the existing cluster\n",
        "# Choose a name for your CPU cluster\n",
        "amlcompute_cluster_name = \"auto-ml\"\n",
        "\n",
        "# Verify that cluster does not exist already\n",
        "try:\n",
        "    compute_target = ComputeTarget(workspace=ws, name=amlcompute_cluster_name)\n",
        "    print('Found existing cluster, use it.')\n",
        "except ComputeTargetException:\n",
        "    compute_config = AmlCompute.provisioning_configuration(vm_size='STANDARD_D2_V2',# for GPU, use \"STANDARD_NC6\"\n",
        "                                                           #vm_priority = 'lowpriority', # optional\n",
        "                                                           max_nodes=4)\n",
        "    compute_target = ComputeTarget.create(ws, amlcompute_cluster_name, compute_config)\n",
        "\n",
        "compute_target.wait_for_completion(show_output=True, min_node_count = 1, timeout_in_minutes = 10)\n",
        "# For a more detailed view of current AmlCompute status, use get_status()."
      ]
    },
    {
      "attachments": {},
      "cell_type": "markdown",
      "metadata": {},
      "source": [
        "#### Dataset"
      ]
    },
    {
      "cell_type": "code",
      "execution_count": 4,
      "metadata": {
        "gather": {
          "logged": 1681189342496
        }
      },
      "outputs": [
        {
          "data": {
            "text/html": [
              "<div>\n",
              "<style scoped>\n",
              "    .dataframe tbody tr th:only-of-type {\n",
              "        vertical-align: middle;\n",
              "    }\n",
              "\n",
              "    .dataframe tbody tr th {\n",
              "        vertical-align: top;\n",
              "    }\n",
              "\n",
              "    .dataframe thead th {\n",
              "        text-align: right;\n",
              "    }\n",
              "</style>\n",
              "<table border=\"1\" class=\"dataframe\">\n",
              "  <thead>\n",
              "    <tr style=\"text-align: right;\">\n",
              "      <th></th>\n",
              "      <th>mpg</th>\n",
              "      <th>cylinders</th>\n",
              "      <th>displacement</th>\n",
              "      <th>horsepower</th>\n",
              "      <th>weight</th>\n",
              "      <th>acceleration</th>\n",
              "      <th>model year</th>\n",
              "    </tr>\n",
              "  </thead>\n",
              "  <tbody>\n",
              "    <tr>\n",
              "      <th>0</th>\n",
              "      <td>18.0</td>\n",
              "      <td>8</td>\n",
              "      <td>307.0</td>\n",
              "      <td>130</td>\n",
              "      <td>3504</td>\n",
              "      <td>12.0</td>\n",
              "      <td>70</td>\n",
              "    </tr>\n",
              "    <tr>\n",
              "      <th>1</th>\n",
              "      <td>15.0</td>\n",
              "      <td>8</td>\n",
              "      <td>350.0</td>\n",
              "      <td>165</td>\n",
              "      <td>3693</td>\n",
              "      <td>11.5</td>\n",
              "      <td>70</td>\n",
              "    </tr>\n",
              "    <tr>\n",
              "      <th>2</th>\n",
              "      <td>18.0</td>\n",
              "      <td>8</td>\n",
              "      <td>318.0</td>\n",
              "      <td>150</td>\n",
              "      <td>3436</td>\n",
              "      <td>11.0</td>\n",
              "      <td>70</td>\n",
              "    </tr>\n",
              "    <tr>\n",
              "      <th>3</th>\n",
              "      <td>16.0</td>\n",
              "      <td>8</td>\n",
              "      <td>304.0</td>\n",
              "      <td>150</td>\n",
              "      <td>3433</td>\n",
              "      <td>12.0</td>\n",
              "      <td>70</td>\n",
              "    </tr>\n",
              "    <tr>\n",
              "      <th>4</th>\n",
              "      <td>17.0</td>\n",
              "      <td>8</td>\n",
              "      <td>302.0</td>\n",
              "      <td>140</td>\n",
              "      <td>3449</td>\n",
              "      <td>10.5</td>\n",
              "      <td>70</td>\n",
              "    </tr>\n",
              "  </tbody>\n",
              "</table>\n",
              "</div>"
            ],
            "text/plain": [
              "    mpg  cylinders  displacement  horsepower  weight  acceleration  model year\n",
              "0  18.0          8         307.0         130    3504          12.0          70\n",
              "1  15.0          8         350.0         165    3693          11.5          70\n",
              "2  18.0          8         318.0         150    3436          11.0          70\n",
              "3  16.0          8         304.0         150    3433          12.0          70\n",
              "4  17.0          8         302.0         140    3449          10.5          70"
            ]
          },
          "execution_count": 4,
          "metadata": {},
          "output_type": "execute_result"
        }
      ],
      "source": [
        "dataset = Dataset.get_by_name(ws, name='mpg_pred')\n",
        "\n",
        "#view the data\n",
        "dataset.take(5).to_pandas_dataframe()"
      ]
    },
    {
      "cell_type": "code",
      "execution_count": 5,
      "metadata": {
        "gather": {
          "logged": 1681189346046
        }
      },
      "outputs": [],
      "source": [
        "\n",
        "# Split the dataset into train and test datasets\n",
        "train_data, test_data = dataset.random_split(percentage=0.8, seed=10)\n",
        "\n",
        "label = \"mpg\""
      ]
    },
    {
      "attachments": {},
      "cell_type": "markdown",
      "metadata": {},
      "source": [
        "## AutoML Configuration\n",
        "\n",
        "Here the automl settings are choosen with and a regression task is passed to the automl config"
      ]
    },
    {
      "cell_type": "code",
      "execution_count": 10,
      "metadata": {
        "gather": {
          "logged": 1681189364897
        },
        "jupyter": {
          "outputs_hidden": false,
          "source_hidden": false
        },
        "nteract": {
          "transient": {
            "deleting": false
          }
        }
      },
      "outputs": [],
      "source": [
        "# TODO: Put your automl settings here\n",
        "automl_settings = {\n",
        "    \"n_cross_validations\": 3,\n",
        "    \"primary_metric\": \"r2_score\",\n",
        "    \"enable_early_stopping\": True,\n",
        "    \"max_concurrent_iterations\": 5,\n",
        "    \"experiment_timeout_minutes\": 30\n",
        "   \n",
        "}\n",
        "\n",
        "# TODO: Put your automl config here\n",
        "automl_config = AutoMLConfig(\n",
        "    task=\"regression\",\n",
        "    compute_target=compute_target,\n",
        "    training_data=train_data,\n",
        "    label_column_name=label,\n",
        "    **automl_settings,\n",
        ")\n"
      ]
    },
    {
      "cell_type": "code",
      "execution_count": 11,
      "metadata": {
        "gather": {
          "logged": 1681190281220
        },
        "jupyter": {
          "outputs_hidden": false,
          "source_hidden": false
        },
        "nteract": {
          "transient": {
            "deleting": false
          }
        }
      },
      "outputs": [
        {
          "name": "stdout",
          "output_type": "stream",
          "text": [
            "Submitting remote run.\n",
            "No run_configuration provided, running on auto-ml with default configuration\n",
            "Running on remote compute: auto-ml\n"
          ]
        },
        {
          "data": {
            "text/html": [
              "<table style=\"width:100%\"><tr><th>Experiment</th><th>Id</th><th>Type</th><th>Status</th><th>Details Page</th><th>Docs Page</th></tr><tr><td>MPG-Prediction</td><td>AutoML_6247aa15-f1e6-4f70-9d32-6bf40f61c9e9</td><td>automl</td><td>NotStarted</td><td><a href=\"https://ml.azure.com/runs/AutoML_6247aa15-f1e6-4f70-9d32-6bf40f61c9e9?wsid=/subscriptions/b968fb36-f06a-4c76-a15f-afab68ae7667/resourcegroups/aml-quickstarts-234714/workspaces/quick-starts-ws-234714&amp;tid=660b3398-b80e-49d2-bc5b-ac1dc93b5254\" target=\"_blank\" rel=\"noopener\">Link to Azure Machine Learning studio</a></td><td><a href=\"https://docs.microsoft.com/en-us/python/api/overview/azure/ml/intro?view=azure-ml-py\" target=\"_blank\" rel=\"noopener\">Link to Documentation</a></td></tr></table>"
            ],
            "text/plain": [
              "<IPython.core.display.HTML object>"
            ]
          },
          "metadata": {},
          "output_type": "display_data"
        },
        {
          "name": "stdout",
          "output_type": "stream",
          "text": [
            "\n",
            "Current status: FeaturesGeneration. Generating features for the dataset.\n",
            "Current status: DatasetCrossValidationSplit. Generating individually featurized CV splits.\n",
            "Current status: ModelSelection. Beginning model selection.\n",
            "\n",
            "********************************************************************************************\n",
            "DATA GUARDRAILS: \n",
            "\n",
            "TYPE:         Missing feature values imputation\n",
            "STATUS:       DONE\n",
            "DESCRIPTION:  If the missing values are expected, let the run complete. Otherwise cancel the current run and use a script to customize the handling of missing feature values that may be more appropriate based on the data type and business requirement.\n",
            "              Learn more about missing value imputation: https://aka.ms/AutomatedMLFeaturization\n",
            "DETAILS:      \n",
            "+------------------------------+------------------------------+------------------------------+\n",
            "|Column name                   |Missing value count           |Imputation type               |\n",
            "+==============================+==============================+==============================+\n",
            "|horsepower                    |4                             |mean                          |\n",
            "+------------------------------+------------------------------+------------------------------+\n",
            "\n",
            "********************************************************************************************\n",
            "\n",
            "TYPE:         High cardinality feature detection\n",
            "STATUS:       PASSED\n",
            "DESCRIPTION:  Your inputs were analyzed, and no high cardinality features were detected.\n",
            "              Learn more about high cardinality feature handling: https://aka.ms/AutomatedMLFeaturization\n",
            "\n",
            "********************************************************************************************\n",
            "\n",
            "********************************************************************************************\n",
            "ITER: The iteration being evaluated.\n",
            "PIPELINE: A summary description of the pipeline being evaluated.\n",
            "DURATION: Time taken for the current iteration.\n",
            "METRIC: The result of computing score on the fitted pipeline.\n",
            "BEST: The best observed score thus far.\n",
            "********************************************************************************************\n",
            "\n",
            " ITER   PIPELINE                                       DURATION            METRIC      BEST\n",
            "    0   MaxAbsScaler LightGBM                          0:00:14             0.7340    0.7340\n",
            "    1   MaxAbsScaler XGBoostRegressor                  0:00:12             0.7855    0.7855\n",
            "    2   StandardScalerWrapper XGBoostRegressor         0:00:12            -1.0000    0.7855\n",
            "    3   MaxAbsScaler ElasticNet                        0:00:12             0.8319    0.8319\n",
            "    4   MaxAbsScaler LightGBM                          0:00:14             0.8035    0.8319\n",
            "    5   SparseNormalizer XGBoostRegressor              0:00:12             0.8225    0.8319\n",
            "    6   MaxAbsScaler RandomForest                      0:00:12             0.8094    0.8319\n",
            "    7   MaxAbsScaler RandomForest                      0:00:13             0.7035    0.8319\n",
            "    8   StandardScalerWrapper ExtremeRandomTrees       0:00:16             0.8023    0.8319\n",
            "   10   MaxAbsScaler ExtremeRandomTrees                0:00:12             0.8172    0.8319\n",
            "    9   SparseNormalizer XGBoostRegressor              0:00:12             0.8152    0.8319\n",
            "   11   MaxAbsScaler ElasticNet                        0:00:12             0.8323    0.8323\n",
            "   12   SparseNormalizer XGBoostRegressor              0:00:15             0.7481    0.8323\n",
            "   13   MaxAbsScaler RandomForest                      0:00:13             0.7247    0.8323\n",
            "   16   MaxAbsScaler RandomForest                      0:00:14             0.7284    0.8323\n",
            "   17   StandardScalerWrapper ElasticNet               0:00:11             0.8347    0.8347\n",
            "   14   StandardScalerWrapper XGBoostRegressor         0:00:11             0.7683    0.8347\n",
            "   15   StandardScalerWrapper ElasticNet               0:00:10             0.7277    0.8347\n",
            "   18   StandardScalerWrapper XGBoostRegressor         0:00:11             0.7769    0.8347\n",
            "   19   StandardScalerWrapper ExtremeRandomTrees       0:00:11             0.8063    0.8347\n",
            "   20   StandardScalerWrapper ElasticNet               0:00:29             0.7787    0.8347\n",
            "   22   SparseNormalizer ExtremeRandomTrees            0:00:33             0.8213    0.8347\n",
            "   23   StandardScalerWrapper LightGBM                 0:00:30             0.8149    0.8347\n",
            "   24   StandardScalerWrapper ElasticNet               0:00:29             0.8332    0.8347\n",
            "   21   MaxAbsScaler DecisionTree                      0:01:58             0.6729    0.8347\n",
            "   25   StandardScalerWrapper ExtremeRandomTrees       0:00:33             0.8214    0.8347\n",
            "   26   SparseNormalizer XGBoostRegressor              0:00:30            -1.0000    0.8347\n",
            "   27   SparseNormalizer XGBoostRegressor              0:00:33            -1.0000    0.8347\n",
            "   28   MaxAbsScaler LightGBM                          0:00:32             0.6118    0.8347\n",
            "   29   MaxAbsScaler GradientBoosting                  0:00:31             0.6469    0.8347\n",
            "   30   TruncatedSVDWrapper ElasticNet                 0:00:28             0.7195    0.8347\n",
            "   31   MaxAbsScaler LightGBM                          0:00:32             0.6974    0.8347\n",
            "   32   MaxAbsScaler DecisionTree                      0:00:32             0.6879    0.8347\n",
            "   33   StandardScalerWrapper ElasticNet               0:00:32             0.8249    0.8347\n",
            "   34   StandardScalerWrapper SGD                      0:00:20                nan    0.8347\n",
            "   35                                                  0:00:13                nan    0.8347\n",
            "   36                                                  0:00:07                nan    0.8347\n",
            "   37                                                  0:00:06                nan    0.8347\n",
            "   38    VotingEnsemble                                0:01:50             0.8575    0.8575\n",
            "   39    StackEnsemble                                 0:00:48             0.8416    0.8575\n"
          ]
        }
      ],
      "source": [
        "# Submit your experiment\n",
        "\n",
        "remote_run = experiment.submit(automl_config, show_output= True)\n"
      ]
    },
    {
      "attachments": {},
      "cell_type": "markdown",
      "metadata": {},
      "source": [
        "## Run Details\n",
        "\n",
        "OPTIONAL: Write about the different models trained and their performance. Why do you think some models did better than others?\n",
        "\n",
        "TODO: In the cell below, use the `RunDetails` widget to show the different experiments."
      ]
    },
    {
      "cell_type": "code",
      "execution_count": null,
      "metadata": {
        "gather": {
          "logged": 1681190303853
        },
        "jupyter": {
          "outputs_hidden": false,
          "source_hidden": false
        },
        "nteract": {
          "transient": {
            "deleting": false
          }
        }
      },
      "outputs": [
        {
          "data": {
            "application/vnd.jupyter.widget-view+json": {
              "model_id": "6d13fa7175684e79b741babbee6109da",
              "version_major": 2,
              "version_minor": 0
            },
            "text/plain": [
              "_AutoMLWidget(widget_settings={'childWidgetDisplay': 'popup', 'send_telemetry': False, 'log_level': 'INFO', 's…"
            ]
          },
          "metadata": {},
          "output_type": "display_data"
        },
        {
          "data": {
            "application/aml.mini.widget.v1": "{\"status\": \"Completed\", \"workbench_run_details_uri\": \"https://ml.azure.com/runs/AutoML_6247aa15-f1e6-4f70-9d32-6bf40f61c9e9?wsid=/subscriptions/b968fb36-f06a-4c76-a15f-afab68ae7667/resourcegroups/aml-quickstarts-234714/workspaces/quick-starts-ws-234714&tid=660b3398-b80e-49d2-bc5b-ac1dc93b5254\", \"run_id\": \"AutoML_6247aa15-f1e6-4f70-9d32-6bf40f61c9e9\", \"run_properties\": {\"run_id\": \"AutoML_6247aa15-f1e6-4f70-9d32-6bf40f61c9e9\", \"created_utc\": \"2023-05-31T05:47:11.430371Z\", \"properties\": {\"num_iterations\": \"1000\", \"training_type\": \"TrainFull\", \"acquisition_function\": \"EI\", \"primary_metric\": \"r2_score\", \"train_split\": \"0\", \"acquisition_parameter\": \"0\", \"num_cross_validation\": \"3\", \"target\": \"auto-ml\", \"AMLSettingsJsonString\": \"{\\\"path\\\":null,\\\"name\\\":\\\"MPG-Prediction\\\",\\\"subscription_id\\\":\\\"b968fb36-f06a-4c76-a15f-afab68ae7667\\\",\\\"resource_group\\\":\\\"aml-quickstarts-234714\\\",\\\"workspace_name\\\":\\\"quick-starts-ws-234714\\\",\\\"region\\\":\\\"westus2\\\",\\\"compute_target\\\":\\\"auto-ml\\\",\\\"spark_service\\\":null,\\\"azure_service\\\":\\\"remote\\\",\\\"many_models\\\":false,\\\"pipeline_fetch_max_batch_size\\\":1,\\\"enable_batch_run\\\":true,\\\"enable_parallel_run\\\":false,\\\"num_procs\\\":null,\\\"enable_run_restructure\\\":false,\\\"start_auxiliary_runs_before_parent_complete\\\":false,\\\"enable_code_generation\\\":true,\\\"iterations\\\":1000,\\\"primary_metric\\\":\\\"r2_score\\\",\\\"task_type\\\":\\\"regression\\\",\\\"positive_label\\\":null,\\\"data_script\\\":null,\\\"test_size\\\":0.0,\\\"test_include_predictions_only\\\":false,\\\"validation_size\\\":0.0,\\\"n_cross_validations\\\":3,\\\"y_min\\\":null,\\\"y_max\\\":null,\\\"num_classes\\\":null,\\\"featurization\\\":\\\"auto\\\",\\\"_ignore_package_version_incompatibilities\\\":false,\\\"is_timeseries\\\":false,\\\"max_cores_per_iteration\\\":1,\\\"max_concurrent_iterations\\\":5,\\\"iteration_timeout_minutes\\\":null,\\\"mem_in_mb\\\":null,\\\"enforce_time_on_windows\\\":true,\\\"experiment_timeout_minutes\\\":30,\\\"experiment_exit_score\\\":null,\\\"partition_column_names\\\":null,\\\"whitelist_models\\\":null,\\\"blacklist_algos\\\":[\\\"TensorFlowDNN\\\",\\\"TensorFlowLinearRegressor\\\"],\\\"supported_models\\\":[\\\"KNN\\\",\\\"SGD\\\",\\\"ExtremeRandomTrees\\\",\\\"XGBoostRegressor\\\",\\\"GradientBoosting\\\",\\\"TensorFlowLinearRegressor\\\",\\\"TabnetRegressor\\\",\\\"ElasticNet\\\",\\\"RandomForest\\\",\\\"LightGBM\\\",\\\"TensorFlowDNN\\\",\\\"LassoLars\\\",\\\"FastLinearRegressor\\\",\\\"OnlineGradientDescentRegressor\\\",\\\"DecisionTree\\\"],\\\"private_models\\\":[],\\\"auto_blacklist\\\":true,\\\"blacklist_samples_reached\\\":false,\\\"exclude_nan_labels\\\":true,\\\"verbosity\\\":20,\\\"_debug_log\\\":\\\"azureml_automl.log\\\",\\\"show_warnings\\\":false,\\\"model_explainability\\\":true,\\\"service_url\\\":null,\\\"sdk_url\\\":null,\\\"sdk_packages\\\":null,\\\"enable_onnx_compatible_models\\\":false,\\\"enable_split_onnx_featurizer_estimator_models\\\":false,\\\"vm_type\\\":\\\"STANDARD_D2_V2\\\",\\\"telemetry_verbosity\\\":20,\\\"send_telemetry\\\":true,\\\"enable_dnn\\\":false,\\\"scenario\\\":\\\"AutoML\\\",\\\"environment_label\\\":null,\\\"save_mlflow\\\":false,\\\"enable_categorical_indicators\\\":false,\\\"force_text_dnn\\\":false,\\\"enable_feature_sweeping\\\":true,\\\"enable_early_stopping\\\":true,\\\"early_stopping_n_iters\\\":10,\\\"arguments\\\":null,\\\"dataset_id\\\":\\\"31c77d77-de5c-48b9-b5a1-5ae0b5f57418\\\",\\\"hyperdrive_config\\\":null,\\\"validation_dataset_id\\\":null,\\\"run_source\\\":null,\\\"metrics\\\":null,\\\"enable_metric_confidence\\\":false,\\\"enable_ensembling\\\":true,\\\"enable_stack_ensembling\\\":true,\\\"ensemble_iterations\\\":15,\\\"enable_tf\\\":false,\\\"enable_subsampling\\\":null,\\\"subsample_seed\\\":null,\\\"enable_nimbusml\\\":false,\\\"enable_streaming\\\":false,\\\"force_streaming\\\":false,\\\"track_child_runs\\\":true,\\\"n_best_runs\\\":1,\\\"allowed_private_models\\\":[],\\\"label_column_name\\\":\\\"mpg\\\",\\\"weight_column_name\\\":null,\\\"cv_split_column_names\\\":null,\\\"enable_local_managed\\\":false,\\\"_local_managed_run_id\\\":null,\\\"cost_mode\\\":1,\\\"lag_length\\\":0,\\\"metric_operation\\\":\\\"maximize\\\",\\\"preprocess\\\":true}\", \"DataPrepJsonString\": \"{\\\\\\\"training_data\\\\\\\": {\\\\\\\"datasetId\\\\\\\": \\\\\\\"31c77d77-de5c-48b9-b5a1-5ae0b5f57418\\\\\\\"}, \\\\\\\"datasets\\\\\\\": 0}\", \"EnableSubsampling\": null, \"runTemplate\": \"AutoML\", \"azureml.runsource\": \"automl\", \"display_task_type\": \"regression\", \"dependencies_versions\": \"{\\\"azureml\\\": \\\"0.2.7\\\", \\\"azureml-widgets\\\": \\\"1.49.0\\\", \\\"azureml-training-tabular\\\": \\\"1.49.0\\\", \\\"azureml-train-restclients-hyperdrive\\\": \\\"1.49.0\\\", \\\"azureml-train-core\\\": \\\"1.49.0\\\", \\\"azureml-train-automl\\\": \\\"1.49.0\\\", \\\"azureml-train-automl-runtime\\\": \\\"1.49.0\\\", \\\"azureml-train-automl-client\\\": \\\"1.49.0\\\", \\\"azureml-telemetry\\\": \\\"1.49.0\\\", \\\"azureml-pipeline\\\": \\\"1.49.0\\\", \\\"azureml-pipeline-steps\\\": \\\"1.49.0\\\", \\\"azureml-pipeline-core\\\": \\\"1.49.0\\\", \\\"azureml-mlflow\\\": \\\"1.49.0\\\", \\\"azureml-interpret\\\": \\\"1.49.0\\\", \\\"azureml-dataset-runtime\\\": \\\"1.49.0\\\", \\\"azureml-dataprep\\\": \\\"4.9.2\\\", \\\"azureml-dataprep-rslex\\\": \\\"2.16.3\\\", \\\"azureml-dataprep-native\\\": \\\"38.0.0\\\", \\\"azureml-core\\\": \\\"1.49.0\\\", \\\"azureml-automl-runtime\\\": \\\"1.49.0\\\", \\\"azureml-automl-core\\\": \\\"1.49.0\\\"}\", \"_aml_system_scenario_identification\": \"Remote.Parent\", \"ClientType\": \"SDK\", \"PlatformVersion\": \"DPV1\", \"environment_cpu_name\": \"AzureML-AutoML\", \"environment_cpu_label\": \"prod\", \"environment_gpu_name\": \"AzureML-AutoML-GPU\", \"environment_gpu_label\": \"prod\", \"root_attribution\": \"automl\", \"attribution\": \"AutoML\", \"Orchestrator\": \"AutoML\", \"CancelUri\": \"https://westus2.api.azureml.ms/jasmine/v1.0/subscriptions/b968fb36-f06a-4c76-a15f-afab68ae7667/resourceGroups/aml-quickstarts-234714/providers/Microsoft.MachineLearningServices/workspaces/quick-starts-ws-234714/experimentids/45bde224-7c85-4611-99d5-13b53d1beec2/cancel/AutoML_6247aa15-f1e6-4f70-9d32-6bf40f61c9e9\", \"ClientSdkVersion\": null, \"snapshotId\": \"00000000-0000-0000-0000-000000000000\", \"SetupRunId\": \"AutoML_6247aa15-f1e6-4f70-9d32-6bf40f61c9e9_setup\", \"SetupRunContainerId\": \"dcid.AutoML_6247aa15-f1e6-4f70-9d32-6bf40f61c9e9_setup\", \"FeaturizationRunJsonPath\": \"featurizer_container.json\", \"FeaturizationRunId\": \"AutoML_6247aa15-f1e6-4f70-9d32-6bf40f61c9e9_featurize\", \"ProblemInfoJsonString\": \"{\\\"dataset_num_categorical\\\": 0, \\\"is_sparse\\\": true, \\\"subsampling\\\": false, \\\"has_extra_col\\\": true, \\\"dataset_classes\\\": 116, \\\"dataset_features\\\": 24, \\\"dataset_samples\\\": 328, \\\"single_frequency_class_detected\\\": false}\", \"ModelExplainRunId\": \"AutoML_6247aa15-f1e6-4f70-9d32-6bf40f61c9e9_ModelExplain\", \"azureml.git.repository_uri\": \"https://github.com/ebbindaniel/Capstone-Project-Azure-AutoML.git\", \"mlflow.source.git.repoURL\": \"https://github.com/ebbindaniel/Capstone-Project-Azure-AutoML.git\", \"azureml.git.branch\": \"main\", \"mlflow.source.git.branch\": \"main\", \"azureml.git.commit\": \"24755fc6304bba8102a5de210e70578ca1ac74c6\", \"mlflow.source.git.commit\": \"24755fc6304bba8102a5de210e70578ca1ac74c6\", \"azureml.git.dirty\": \"True\"}, \"tags\": {\"model_explain_run\": \"best_run\", \"_aml_system_automl_run_workspace_id\": \"4fd564d9-ee4c-41a2-9f65-0bb190f5353f\", \"_aml_system_azureml.automlComponent\": \"AutoML\", \"pipeline_id_000\": \"faf12f74cf9bbd358ca5525682c5030d36f7be7c;4bc4ec47eb8df2d5d68b361cd60120e65196f757;5cc37daec73ea64276ef956449645cdb519fdfc6;ae729f09378486945c70eb2a2306f8aa8f4e30a7;6a894202d038ecb5c7c417bf556f9786ed0f13c6;81a8315d6cda43021ef8ee13d5b3fcd926dba303;be29dd8ef9fe83f67909ad067b2ee360837567fa;15e58541c67098b65d03a6b93fca780f681c9f5e;1a94a47ceeb6e3de4d1586870eb0b5b46f9d2ff9;4c058409e6cc4a503b1146122046abe088414f8f;fe3e28c574c755f8ec9262097b6f2abaa1264f15;b5402e5e23e95d034621783c5097813f7fc3f147;eb4d67c62276b68592794641b4cbbee89720c733;3000cb830d1cd19900206d2bef770e4da509572b;6d09a0ee795a43e895132ff95166dba8e141aaea;786564a58f2bed5c06fb589cbded991e6c6aded9;e855d207cec0cd6487cd2dcd249b6cc655413e4d;1183faa528839e9068f57c94d547d1b73e786709;abf1e76263c97dcb245e2e3c22af8672bca98a18;a4bd1e74e73eeac38f9bc82356003852c9ed36f7;2aca8b4b45fc09a61ced83f2066b98f8aebf676c;918157fc95daf9e05037762cef0897b7a17c8891;7d7fdfe415b40c2f22681f44bb394f0c21fcbff4;b518fabf6508fd8105ec47240c3d1fee64287fac;b91fd684cb45a535d66b96c384c1995e6fdd4d79;35e5c774e8e870a2b17f500ca253fc5f3606704a;9a8aca21bbf9a431845c91d840add56c1cee47cc;d4792517cd5c744dcb87b6f4f4a0b68e7978dbb8;6777c0c69c649a1ec7b863ecdd2184374a40839c;9ef9cf7d41ac49d6df84fc323024df5303803877;356efd2bb901f625380fbffc9a4e2ecf50b6c8d0;19c9841e5dd7284d9bdc680fc49b7efd67e392cd;7b0d9a91736f3c6bf6610a545271b0e49ffd89e5;d0f5dc3218e38225c6b2c3c7dd6bc9124c1e387e;2eeec1319aa6d9c88366c2c75116e1426a22c5dc;7655a9c035deeec815b6c5ea0187fd2251e31a02;0584d9cc28311332b598aaecd617efeb3d8d4804;f1eee45fb31e25571fb0350f2fd2364d0412417e;__AutoML_Stack_Ensemble__;__AutoML_Ensemble__\", \"score_000\": \"0.7339967714360682;0.7855423350655159;-1;0.8319010722407362;0.8035304912812812;0.8225102332772107;0.8094251689114191;0.7035114364818374;0.8023434131001176;0.8152374432927617;0.8172304056887697;0.8322780039221587;0.7481445411055399;0.7284104928000966;0.7246859415356218;0.8347293080479895;0.7682661478172771;0.7769414947025682;0.7276817436118138;0.806336762249669;0.8213263941818467;0.77873224899758;0.8148512469286288;0.833248132340178;0.8213907518512792;-1;-1;0.6118381022091711;0.6469309475892806;0.6729484074728872;0.7194859258280643;0.697409852520249;0.6879144232150433;0.8248678401825349;NaN;0.7167922982373053;NaN;NaN;0.8416346244753271;0.8574798578596733\", \"predicted_cost_000\": \"0;0;0.5;0.5;0.5;0.5;0.5;0.5;0.5;0.5;0.5;0.5;0.5;0.5;0.5;0.5;0.5;0.5;0.5;0.5;0.06981318586536125;0.11256670508125399;0.038252322332695085;0.0005151995682629616;0.08601423989229516;1.714084865402453;0.0270375425347931;0.7692086682660633;0.05942411976123461;0.005132689912883772;0.035727258648157546;0.04288173341249782;0.0037601227935636938;0.0002694153776667228;0.05712229897264064;0.013281925680547708;0.014752133771239958;0.051986932054625214;0;0\", \"fit_time_000\": \"0.04821366666666666;0.11343266666666667;0.04059933333333333;0.028598;0.018565666666666668;0.03639233333333333;0.12372766666666668;0.043853333333333334;0.6688040000000001;0.08587066666666666;0.05440466666666666;0.028572666666666663;0.5532313333333333;0.3334249999999999;0.5481103333333334;0.005256;0.10779533333333334;0.046337333333333335;0.004747;0.03856533333333333;0.06676466666666667;0.006240333333333333;0.010266333333333334;0.003943666666666667;0.346617;0.015561333333333335;0.027113666666666664;0.019361333333333335;0.2532193333333333;0.004555;0.004401666666666667;0.00982;0.0046106666666666666;0.0038426666666666665;NaN;0.022107666666666668;NaN;NaN;15;15\", \"training_percent_000\": \"100;100;100;100;100;100;100;100;100;100;100;100;100;100;100;100;100;100;100;100;100;100;100;100;100;100;100;100;100;100;100;100;100;100;100;100;100;100;100;100\", \"iteration_000\": \"0;1;2;3;4;5;6;7;8;9;10;11;12;16;13;17;14;18;15;19;22;20;23;24;25;26;27;28;29;21;30;31;32;33;35;34;37;36;39;38\", \"run_preprocessor_000\": \"MaxAbsScaler;MaxAbsScaler;StandardScalerWrapper;MaxAbsScaler;MaxAbsScaler;SparseNormalizer;MaxAbsScaler;MaxAbsScaler;StandardScalerWrapper;SparseNormalizer;MaxAbsScaler;MaxAbsScaler;SparseNormalizer;MaxAbsScaler;MaxAbsScaler;StandardScalerWrapper;StandardScalerWrapper;StandardScalerWrapper;StandardScalerWrapper;StandardScalerWrapper;SparseNormalizer;StandardScalerWrapper;StandardScalerWrapper;StandardScalerWrapper;StandardScalerWrapper;SparseNormalizer;SparseNormalizer;MaxAbsScaler;MaxAbsScaler;MaxAbsScaler;TruncatedSVDWrapper;MaxAbsScaler;MaxAbsScaler;StandardScalerWrapper;;StandardScalerWrapper;;;;\", \"run_algorithm_000\": \"LightGBM;XGBoostRegressor;XGBoostRegressor;ElasticNet;LightGBM;XGBoostRegressor;RandomForest;RandomForest;ExtremeRandomTrees;XGBoostRegressor;ExtremeRandomTrees;ElasticNet;XGBoostRegressor;RandomForest;RandomForest;ElasticNet;XGBoostRegressor;XGBoostRegressor;ElasticNet;ExtremeRandomTrees;ExtremeRandomTrees;ElasticNet;LightGBM;ElasticNet;ExtremeRandomTrees;XGBoostRegressor;XGBoostRegressor;LightGBM;GradientBoosting;DecisionTree;ElasticNet;LightGBM;DecisionTree;ElasticNet;;SGD;;;StackEnsemble;VotingEnsemble\", \"dynamic_allowlisting_iterations\": \"<24>;<30>;<35>;\", \"_aml_system_azureml.automl_early_exit_message\": \"No scores improved over last 10 iterations, so experiment stopped early. This early stopping behavior can be disabled by setting enable_early_stopping = False in AutoMLConfig for notebook/python SDK runs.\", \"automl_best_child_run_id\": \"AutoML_6247aa15-f1e6-4f70-9d32-6bf40f61c9e9_38\"}, \"end_time_utc\": \"2023-05-31T06:03:18.174Z\", \"status\": \"Completed\", \"log_files\": {}, \"log_groups\": [], \"run_duration\": \"0:16:06\", \"run_number\": \"1685512031\", \"run_queued_details\": {\"status\": \"Completed\", \"details\": null}}, \"child_runs\": [{\"run_id\": \"AutoML_6247aa15-f1e6-4f70-9d32-6bf40f61c9e9_setup\", \"run_number\": 1685512045, \"metric\": null, \"status\": \"Completed\", \"run_type\": \"azureml.scriptrun\", \"training_percent\": null, \"start_time\": \"2023-05-31T05:49:50.586502Z\", \"end_time\": \"2023-05-31T05:51:55.845313Z\", \"created_time\": \"2023-05-31T05:47:25.477334Z\", \"created_time_dt\": \"2023-05-31T05:47:25.477334Z\", \"duration\": \"0:04:30\", \"iteration\": null, \"goal\": null, \"run_name\": \"Completed\", \"run_properties\": null}, {\"run_id\": \"AutoML_6247aa15-f1e6-4f70-9d32-6bf40f61c9e9_featurize\", \"run_number\": 1685512316, \"metric\": null, \"status\": \"Completed\", \"run_type\": \"automl.featurization\", \"training_percent\": null, \"start_time\": \"2023-05-31T05:51:56.488487Z\", \"end_time\": \"2023-05-31T05:53:12.254848Z\", \"created_time\": \"2023-05-31T05:51:56.111451Z\", \"created_time_dt\": \"2023-05-31T05:51:56.111451Z\", \"duration\": \"0:01:16\", \"iteration\": null, \"goal\": null, \"run_name\": \"Completed\", \"run_properties\": null}, {\"run_id\": \"AutoML_6247aa15-f1e6-4f70-9d32-6bf40f61c9e9_0\", \"run_number\": 1685512393, \"metric\": null, \"status\": \"Completed\", \"run_type\": null, \"training_percent\": \"100\", \"start_time\": \"2023-05-31T05:53:35.141408Z\", \"end_time\": \"2023-05-31T05:53:49.581259Z\", \"created_time\": \"2023-05-31T05:53:13.724544Z\", \"created_time_dt\": \"2023-05-31T05:53:13.724544Z\", \"duration\": \"0:00:35\", \"iteration\": \"0\", \"goal\": \"r2_score_max\", \"run_name\": \"MaxAbsScaler, LightGBM\", \"run_properties\": \"copy=True\", \"primary_metric\": 0.73399677, \"best_metric\": 0.73399677}, {\"run_id\": \"AutoML_6247aa15-f1e6-4f70-9d32-6bf40f61c9e9_1\", \"run_number\": 1685512394, \"metric\": null, \"status\": \"Completed\", \"run_type\": null, \"training_percent\": \"100\", \"start_time\": \"2023-05-31T05:53:50.005501Z\", \"end_time\": \"2023-05-31T05:54:01.997916Z\", \"created_time\": \"2023-05-31T05:53:14.134359Z\", \"created_time_dt\": \"2023-05-31T05:53:14.134359Z\", \"duration\": \"0:00:47\", \"iteration\": \"1\", \"goal\": \"r2_score_max\", \"run_name\": \"MaxAbsScaler, XGBoostRegressor\", \"run_properties\": \"copy=True\", \"primary_metric\": 0.78554234, \"best_metric\": 0.78554234}, {\"run_id\": \"AutoML_6247aa15-f1e6-4f70-9d32-6bf40f61c9e9_worker_0\", \"run_number\": 1685512395, \"metric\": null, \"status\": \"Completed\", \"run_type\": \"azureml.scriptrun\", \"training_percent\": null, \"start_time\": \"2023-05-31T05:53:23.719859Z\", \"end_time\": \"2023-05-31T05:54:34.941403Z\", \"created_time\": \"2023-05-31T05:53:15.095747Z\", \"created_time_dt\": \"2023-05-31T05:53:15.095747Z\", \"duration\": \"0:01:19\", \"iteration\": null, \"goal\": null, \"run_name\": \"Completed\", \"run_properties\": null}, {\"run_id\": \"AutoML_6247aa15-f1e6-4f70-9d32-6bf40f61c9e9_worker_1\", \"run_number\": 1685512396, \"metric\": null, \"status\": \"Completed\", \"run_type\": \"azureml.scriptrun\", \"training_percent\": null, \"start_time\": \"2023-05-31T05:54:39.188822Z\", \"end_time\": \"2023-05-31T05:55:50.502343Z\", \"created_time\": \"2023-05-31T05:53:16.724145Z\", \"created_time_dt\": \"2023-05-31T05:53:16.724145Z\", \"duration\": \"0:02:33\", \"iteration\": null, \"goal\": null, \"run_name\": \"Completed\", \"run_properties\": null}, {\"run_id\": \"AutoML_6247aa15-f1e6-4f70-9d32-6bf40f61c9e9_9\", \"run_number\": 1685512397, \"metric\": null, \"status\": \"Completed\", \"run_type\": null, \"training_percent\": \"100\", \"start_time\": \"2023-05-31T05:56:23.240856Z\", \"end_time\": \"2023-05-31T05:56:35.044505Z\", \"created_time\": \"2023-05-31T05:53:17.300282Z\", \"created_time_dt\": \"2023-05-31T05:53:17.300282Z\", \"duration\": \"0:03:17\", \"iteration\": \"9\", \"goal\": \"r2_score_max\", \"run_name\": \"SparseNormalizer, XGBoostRegressor\", \"run_properties\": \"copy=True, norm='l2'\", \"primary_metric\": 0.81523744, \"best_metric\": 0.81523744}, {\"run_id\": \"AutoML_6247aa15-f1e6-4f70-9d32-6bf40f61c9e9_worker_2\", \"run_number\": 1685512398, \"metric\": null, \"status\": \"Completed\", \"run_type\": \"azureml.scriptrun\", \"training_percent\": null, \"start_time\": \"2023-05-31T05:55:55.085413Z\", \"end_time\": \"2023-05-31T05:57:08.272472Z\", \"created_time\": \"2023-05-31T05:53:18.281228Z\", \"created_time_dt\": \"2023-05-31T05:53:18.281228Z\", \"duration\": \"0:03:49\", \"iteration\": null, \"goal\": null, \"run_name\": \"Completed\", \"run_properties\": null}, {\"run_id\": \"AutoML_6247aa15-f1e6-4f70-9d32-6bf40f61c9e9_worker_3\", \"run_number\": 1685512399, \"metric\": null, \"status\": \"Completed\", \"run_type\": \"azureml.scriptrun\", \"training_percent\": null, \"start_time\": \"2023-05-31T05:56:12.439379Z\", \"end_time\": \"2023-05-31T05:58:36.847341Z\", \"created_time\": \"2023-05-31T05:53:19.825026Z\", \"created_time_dt\": \"2023-05-31T05:53:19.825026Z\", \"duration\": \"0:05:17\", \"iteration\": null, \"goal\": null, \"run_name\": \"Completed\", \"run_properties\": null}, {\"run_id\": \"AutoML_6247aa15-f1e6-4f70-9d32-6bf40f61c9e9_17\", \"run_number\": 1685512400, \"metric\": null, \"status\": \"Completed\", \"run_type\": null, \"training_percent\": \"100\", \"start_time\": \"2023-05-31T05:58:04.588866Z\", \"end_time\": \"2023-05-31T05:58:15.614987Z\", \"created_time\": \"2023-05-31T05:53:20.453954Z\", \"created_time_dt\": \"2023-05-31T05:53:20.453954Z\", \"duration\": \"0:04:55\", \"iteration\": \"17\", \"goal\": \"r2_score_max\", \"run_name\": \"StandardScalerWrapper, ElasticNet\", \"run_properties\": \"copy=True, with_mean=False, with_std=True\", \"primary_metric\": 0.83472931, \"best_metric\": 0.83472931}, {\"run_id\": \"AutoML_6247aa15-f1e6-4f70-9d32-6bf40f61c9e9_worker_4\", \"run_number\": 1685512401, \"metric\": null, \"status\": \"Completed\", \"run_type\": \"azureml.scriptrun\", \"training_percent\": null, \"start_time\": \"2023-05-31T05:56:11.266885Z\", \"end_time\": \"2023-05-31T05:58:47.327047Z\", \"created_time\": \"2023-05-31T05:53:21.456495Z\", \"created_time_dt\": \"2023-05-31T05:53:21.456495Z\", \"duration\": \"0:05:25\", \"iteration\": null, \"goal\": null, \"run_name\": \"Completed\", \"run_properties\": null}, {\"run_id\": \"AutoML_6247aa15-f1e6-4f70-9d32-6bf40f61c9e9_22\", \"run_number\": 1685512698, \"metric\": null, \"status\": \"Completed\", \"run_type\": \"azureml.scriptrun\", \"training_percent\": \"100\", \"start_time\": \"2023-05-31T05:58:31.597553Z\", \"end_time\": \"2023-05-31T05:59:04.251903Z\", \"created_time\": \"2023-05-31T05:58:18.892062Z\", \"created_time_dt\": \"2023-05-31T05:58:18.892062Z\", \"duration\": \"0:00:45\", \"iteration\": \"22\", \"goal\": \"r2_score_max\", \"run_name\": \"SparseNormalizer, ExtremeRandomTrees\", \"run_properties\": \"copy=True, norm='l1'\", \"primary_metric\": 0.82132639, \"best_metric\": 0.83472931}, {\"run_id\": \"AutoML_6247aa15-f1e6-4f70-9d32-6bf40f61c9e9_23\", \"run_number\": 1685512721, \"metric\": null, \"status\": \"Completed\", \"run_type\": \"azureml.scriptrun\", \"training_percent\": \"100\", \"start_time\": \"2023-05-31T05:58:51.506171Z\", \"end_time\": \"2023-05-31T05:59:21.15255Z\", \"created_time\": \"2023-05-31T05:58:41.261752Z\", \"created_time_dt\": \"2023-05-31T05:58:41.261752Z\", \"duration\": \"0:00:39\", \"iteration\": \"23\", \"goal\": \"r2_score_max\", \"run_name\": \"StandardScalerWrapper, LightGBM\", \"run_properties\": \"copy=True, with_mean=False, with_std=True\", \"primary_metric\": 0.81485125, \"best_metric\": 0.83472931}, {\"run_id\": \"AutoML_6247aa15-f1e6-4f70-9d32-6bf40f61c9e9_24\", \"run_number\": 1685512747, \"metric\": null, \"status\": \"Completed\", \"run_type\": \"azureml.scriptrun\", \"training_percent\": \"100\", \"start_time\": \"2023-05-31T05:59:14.533443Z\", \"end_time\": \"2023-05-31T05:59:43.131451Z\", \"created_time\": \"2023-05-31T05:59:07.854154Z\", \"created_time_dt\": \"2023-05-31T05:59:07.854154Z\", \"duration\": \"0:00:35\", \"iteration\": \"24\", \"goal\": \"r2_score_max\", \"run_name\": \"StandardScalerWrapper, ElasticNet\", \"run_properties\": \"copy=True, with_mean=False, with_std=True\", \"primary_metric\": 0.83324813, \"best_metric\": 0.83472931}, {\"run_id\": \"AutoML_6247aa15-f1e6-4f70-9d32-6bf40f61c9e9_26\", \"run_number\": 1685512750, \"metric\": null, \"status\": \"Completed\", \"run_type\": \"azureml.scriptrun\", \"training_percent\": \"100\", \"start_time\": \"2023-05-31T05:59:26.683865Z\", \"end_time\": \"2023-05-31T05:59:56.479345Z\", \"created_time\": \"2023-05-31T05:59:10.739028Z\", \"created_time_dt\": \"2023-05-31T05:59:10.739028Z\", \"duration\": \"0:00:45\", \"iteration\": \"26\", \"goal\": \"r2_score_max\", \"run_name\": \"SparseNormalizer, XGBoostRegressor\", \"run_properties\": \"copy=True, norm='l2'\", \"primary_metric\": -1.0, \"best_metric\": 0.83472931}, {\"run_id\": \"AutoML_6247aa15-f1e6-4f70-9d32-6bf40f61c9e9_27\", \"run_number\": 1685512762, \"metric\": null, \"status\": \"Completed\", \"run_type\": \"azureml.scriptrun\", \"training_percent\": \"100\", \"start_time\": \"2023-05-31T05:59:48.509814Z\", \"end_time\": \"2023-05-31T06:00:21.089988Z\", \"created_time\": \"2023-05-31T05:59:22.526481Z\", \"created_time_dt\": \"2023-05-31T05:59:22.526481Z\", \"duration\": \"0:00:58\", \"iteration\": \"27\", \"goal\": \"r2_score_max\", \"run_name\": \"SparseNormalizer, XGBoostRegressor\", \"run_properties\": \"copy=True, norm='l1'\", \"primary_metric\": -1.0, \"best_metric\": 0.83472931}, {\"run_id\": \"AutoML_6247aa15-f1e6-4f70-9d32-6bf40f61c9e9_28\", \"run_number\": 1685512784, \"metric\": null, \"status\": \"Completed\", \"run_type\": \"azureml.scriptrun\", \"training_percent\": \"100\", \"start_time\": \"2023-05-31T05:59:51.31757Z\", \"end_time\": \"2023-05-31T06:00:23.58495Z\", \"created_time\": \"2023-05-31T05:59:44.534581Z\", \"created_time_dt\": \"2023-05-31T05:59:44.534581Z\", \"duration\": \"0:00:39\", \"iteration\": \"28\", \"goal\": \"r2_score_max\", \"run_name\": \"MaxAbsScaler, LightGBM\", \"run_properties\": \"copy=True\", \"primary_metric\": 0.6118381, \"best_metric\": 0.83472931}, {\"run_id\": \"AutoML_6247aa15-f1e6-4f70-9d32-6bf40f61c9e9_29\", \"run_number\": 1685512789, \"metric\": null, \"status\": \"Completed\", \"run_type\": \"azureml.scriptrun\", \"training_percent\": \"100\", \"start_time\": \"2023-05-31T06:00:00.136071Z\", \"end_time\": \"2023-05-31T06:00:31.544513Z\", \"created_time\": \"2023-05-31T05:59:49.745719Z\", \"created_time_dt\": \"2023-05-31T05:59:49.745719Z\", \"duration\": \"0:00:41\", \"iteration\": \"29\", \"goal\": \"r2_score_max\", \"run_name\": \"MaxAbsScaler, GradientBoosting\", \"run_properties\": \"copy=True\", \"primary_metric\": 0.64693095, \"best_metric\": 0.83472931}, {\"run_id\": \"AutoML_6247aa15-f1e6-4f70-9d32-6bf40f61c9e9_30\", \"run_number\": 1685512798, \"metric\": null, \"status\": \"Completed\", \"run_type\": \"azureml.scriptrun\", \"training_percent\": \"100\", \"start_time\": \"2023-05-31T06:00:24.2481Z\", \"end_time\": \"2023-05-31T06:00:52.740972Z\", \"created_time\": \"2023-05-31T05:59:58.747229Z\", \"created_time_dt\": \"2023-05-31T05:59:58.747229Z\", \"duration\": \"0:00:53\", \"iteration\": \"30\", \"goal\": \"r2_score_max\", \"run_name\": \"TruncatedSVDWrapper, ElasticNet\", \"run_properties\": \"n_components=0.45526315789473687, random_state=None\", \"primary_metric\": 0.71948593, \"best_metric\": 0.83472931}, {\"run_id\": \"AutoML_6247aa15-f1e6-4f70-9d32-6bf40f61c9e9_31\", \"run_number\": 1685512822, \"metric\": null, \"status\": \"Completed\", \"run_type\": \"azureml.scriptrun\", \"training_percent\": \"100\", \"start_time\": \"2023-05-31T06:00:29.454739Z\", \"end_time\": \"2023-05-31T06:01:01.582871Z\", \"created_time\": \"2023-05-31T06:00:22.551981Z\", \"created_time_dt\": \"2023-05-31T06:00:22.551981Z\", \"duration\": \"0:00:39\", \"iteration\": \"31\", \"goal\": \"r2_score_max\", \"run_name\": \"MaxAbsScaler, LightGBM\", \"run_properties\": \"copy=True\", \"primary_metric\": 0.69740985, \"best_metric\": 0.83472931}, {\"run_id\": \"AutoML_6247aa15-f1e6-4f70-9d32-6bf40f61c9e9_32\", \"run_number\": 1685512825, \"metric\": null, \"status\": \"Completed\", \"run_type\": \"azureml.scriptrun\", \"training_percent\": \"100\", \"start_time\": \"2023-05-31T06:00:35.255975Z\", \"end_time\": \"2023-05-31T06:01:07.542134Z\", \"created_time\": \"2023-05-31T06:00:25.042183Z\", \"created_time_dt\": \"2023-05-31T06:00:25.042183Z\", \"duration\": \"0:00:42\", \"iteration\": \"32\", \"goal\": \"r2_score_max\", \"run_name\": \"MaxAbsScaler, DecisionTree\", \"run_properties\": \"copy=True\", \"primary_metric\": 0.68791442, \"best_metric\": 0.83472931}, {\"run_id\": \"AutoML_6247aa15-f1e6-4f70-9d32-6bf40f61c9e9_33\", \"run_number\": 1685512833, \"metric\": null, \"status\": \"Completed\", \"run_type\": \"azureml.scriptrun\", \"training_percent\": \"100\", \"start_time\": \"2023-05-31T06:00:39.490221Z\", \"end_time\": \"2023-05-31T06:01:11.3548Z\", \"created_time\": \"2023-05-31T06:00:33.042227Z\", \"created_time_dt\": \"2023-05-31T06:00:33.042227Z\", \"duration\": \"0:00:38\", \"iteration\": \"33\", \"goal\": \"r2_score_max\", \"run_name\": \"StandardScalerWrapper, ElasticNet\", \"run_properties\": \"copy=True, with_mean=False, with_std=True\", \"primary_metric\": 0.82486784, \"best_metric\": 0.83472931}, {\"run_id\": \"AutoML_6247aa15-f1e6-4f70-9d32-6bf40f61c9e9_34\", \"run_number\": 1685512835, \"metric\": null, \"status\": \"Canceled\", \"run_type\": \"azureml.scriptrun\", \"training_percent\": \"100\", \"start_time\": \"2023-05-31T06:00:57.579391Z\", \"end_time\": \"2023-05-31T06:01:17.646598Z\", \"created_time\": \"2023-05-31T06:00:35.043553Z\", \"created_time_dt\": \"2023-05-31T06:00:35.043553Z\", \"duration\": \"0:00:42\", \"iteration\": \"34\", \"goal\": \"r2_score_max\", \"run_name\": \"StandardScalerWrapper, SGD\", \"run_properties\": \"copy=True, with_mean=False, with_std=True\"}, {\"run_id\": \"AutoML_6247aa15-f1e6-4f70-9d32-6bf40f61c9e9_35\", \"run_number\": 1685512855, \"metric\": null, \"status\": \"Canceled\", \"run_type\": \"azureml.scriptrun\", \"training_percent\": \"100\", \"start_time\": \"2023-05-31T06:01:04.880965Z\", \"end_time\": \"2023-05-31T06:01:17.523517Z\", \"created_time\": \"2023-05-31T06:00:55.133873Z\", \"created_time_dt\": \"2023-05-31T06:00:55.133873Z\", \"duration\": \"0:00:22\", \"iteration\": \"35\", \"goal\": null, \"run_name\": \"Canceled\", \"run_properties\": null}, {\"run_id\": \"AutoML_6247aa15-f1e6-4f70-9d32-6bf40f61c9e9_36\", \"run_number\": 1685512862, \"metric\": null, \"status\": \"Canceled\", \"run_type\": \"azureml.scriptrun\", \"training_percent\": \"100\", \"start_time\": \"2023-05-31T06:01:10.743392Z\", \"end_time\": \"2023-05-31T06:01:17.639333Z\", \"created_time\": \"2023-05-31T06:01:02.962171Z\", \"created_time_dt\": \"2023-05-31T06:01:02.962171Z\", \"duration\": \"0:00:14\", \"iteration\": \"36\", \"goal\": null, \"run_name\": \"Canceled\", \"run_properties\": null}, {\"run_id\": \"AutoML_6247aa15-f1e6-4f70-9d32-6bf40f61c9e9_37\", \"run_number\": 1685512869, \"metric\": null, \"status\": \"Canceled\", \"run_type\": \"azureml.scriptrun\", \"training_percent\": \"100\", \"start_time\": \"2023-05-31T06:01:12.061655Z\", \"end_time\": \"2023-05-31T06:01:17.569181Z\", \"created_time\": \"2023-05-31T06:01:09.05416Z\", \"created_time_dt\": \"2023-05-31T06:01:09.05416Z\", \"duration\": \"0:00:08\", \"iteration\": \"37\", \"goal\": null, \"run_name\": \"Canceled\", \"run_properties\": null}, {\"run_id\": \"AutoML_6247aa15-f1e6-4f70-9d32-6bf40f61c9e9_39\", \"run_number\": 1685512878, \"metric\": null, \"status\": \"Completed\", \"run_type\": \"azureml.scriptrun\", \"training_percent\": \"100\", \"start_time\": \"2023-05-31T06:01:26.958409Z\", \"end_time\": \"2023-05-31T06:02:15.14002Z\", \"created_time\": \"2023-05-31T06:01:18.317821Z\", \"created_time_dt\": \"2023-05-31T06:01:18.317821Z\", \"duration\": \"0:00:56\", \"iteration\": \"39\", \"goal\": \"r2_score_max\", \"run_name\": \"StackEnsemble\", \"run_properties\": \"base_learners=[('17', Pipeline(memory=None, steps=[('standardscalerwrapper', StandardScalerWrapper(copy=True, with_mean=False, with_std=True\", \"primary_metric\": 0.84163462, \"best_metric\": 0.84163462}], \"children_metrics\": {\"categories\": [0], \"series\": {\"mean_absolute_percentage_error\": [{\"categories\": [\"0\", \"1\", \"9\", \"17\", \"22\", \"23\", \"24\", \"26\", \"27\", \"28\", \"29\", \"30\", \"31\", \"32\", \"33\", \"39\"], \"mode\": \"markers\", \"name\": \"mean_absolute_percentage_error\", \"stepped\": false, \"type\": \"scatter\", \"data\": [12.609188393972198, 10.543389114166303, 10.235111437620626, 10.3901166772819, 9.989479062717713, 10.49634133336676, 10.40664199131404, 75.7627124607976, 95.17416306451632, 17.65691443159169, 16.52503980206162, 13.387873837321216, 14.723184114913606, 12.088743279550505, 10.28334483102688, 9.651310778287593]}, {\"categories\": [\"0\", \"1\", \"9\", \"17\", \"22\", \"23\", \"24\", \"26\", \"27\", \"28\", \"29\", \"30\", \"31\", \"32\", \"33\", \"39\"], \"mode\": \"lines\", \"name\": \"mean_absolute_percentage_error_min\", \"stepped\": true, \"type\": \"scatter\", \"data\": [12.609188393972198, 10.543389114166303, 10.235111437620626, 10.235111437620626, 9.989479062717713, 9.989479062717713, 9.989479062717713, 9.989479062717713, 9.989479062717713, 9.989479062717713, 9.989479062717713, 9.989479062717713, 9.989479062717713, 9.989479062717713, 9.989479062717713, 9.651310778287593]}], \"normalized_root_mean_squared_error\": [{\"categories\": [\"0\", \"1\", \"9\", \"17\", \"22\", \"23\", \"24\", \"26\", \"27\", \"28\", \"29\", \"30\", \"31\", \"32\", \"33\", \"39\"], \"mode\": \"markers\", \"name\": \"normalized_root_mean_squared_error\", \"stepped\": false, \"type\": \"scatter\", \"data\": [0.11160670407953048, 0.09993078826996434, 0.09300003689444085, 0.08788434028543927, 0.09074065422435958, 0.09294692990481523, 0.08826549270998352, 0.5392509210576327, 0.6642378213934351, 0.1347602914119417, 0.12858253678671222, 0.11425251538017538, 0.11887726198637084, 0.1198429626846527, 0.09053802592593398, 0.08610095265535923]}, {\"categories\": [\"0\", \"1\", \"9\", \"17\", \"22\", \"23\", \"24\", \"26\", \"27\", \"28\", \"29\", \"30\", \"31\", \"32\", \"33\", \"39\"], \"mode\": \"lines\", \"name\": \"normalized_root_mean_squared_error_min\", \"stepped\": true, \"type\": \"scatter\", \"data\": [0.11160670407953048, 0.09993078826996434, 0.09300003689444085, 0.08788434028543927, 0.08788434028543927, 0.08788434028543927, 0.08788434028543927, 0.08788434028543927, 0.08788434028543927, 0.08788434028543927, 0.08788434028543927, 0.08788434028543927, 0.08788434028543927, 0.08788434028543927, 0.08788434028543927, 0.08610095265535923]}], \"normalized_median_absolute_error\": [{\"categories\": [\"0\", \"1\", \"9\", \"17\", \"22\", \"23\", \"24\", \"26\", \"27\", \"28\", \"29\", \"30\", \"31\", \"32\", \"33\", \"39\"], \"mode\": \"markers\", \"name\": \"normalized_median_absolute_error\", \"stepped\": false, \"type\": \"scatter\", \"data\": [0.06556769979104612, 0.05165761776184768, 0.04503489344307548, 0.05176559895087029, 0.050834046727305175, 0.05281465484224779, 0.05293000183583998, 0.47227791811196546, 0.6052748155727815, 0.09379445841955482, 0.08853797614324165, 0.06806525259784278, 0.07345351610013617, 0.056179775280898875, 0.05047338361184564, 0.048230568554973895]}, {\"categories\": [\"0\", \"1\", \"9\", \"17\", \"22\", \"23\", \"24\", \"26\", \"27\", \"28\", \"29\", \"30\", \"31\", \"32\", \"33\", \"39\"], \"mode\": \"lines\", \"name\": \"normalized_median_absolute_error_min\", \"stepped\": true, \"type\": \"scatter\", \"data\": [0.06556769979104612, 0.05165761776184768, 0.04503489344307548, 0.04503489344307548, 0.04503489344307548, 0.04503489344307548, 0.04503489344307548, 0.04503489344307548, 0.04503489344307548, 0.04503489344307548, 0.04503489344307548, 0.04503489344307548, 0.04503489344307548, 0.04503489344307548, 0.04503489344307548, 0.04503489344307548]}], \"root_mean_squared_error\": [{\"categories\": [\"0\", \"1\", \"9\", \"17\", \"22\", \"23\", \"24\", \"26\", \"27\", \"28\", \"29\", \"30\", \"31\", \"32\", \"33\", \"39\"], \"mode\": \"markers\", \"name\": \"root_mean_squared_error\", \"stepped\": false, \"type\": \"scatter\", \"data\": [3.973198665231285, 3.557536062410731, 3.3108013134420937, 3.1286825141616377, 3.230367290387201, 3.3089107046114226, 3.1422515404754137, 19.19733278965173, 23.646866441606292, 4.797466374265126, 4.577538309606955, 4.067389547534243, 4.232030526714802, 4.266409471573636, 3.22315372296325, 3.065193914530789]}, {\"categories\": [\"0\", \"1\", \"9\", \"17\", \"22\", \"23\", \"24\", \"26\", \"27\", \"28\", \"29\", \"30\", \"31\", \"32\", \"33\", \"39\"], \"mode\": \"lines\", \"name\": \"root_mean_squared_error_min\", \"stepped\": true, \"type\": \"scatter\", \"data\": [3.973198665231285, 3.557536062410731, 3.3108013134420937, 3.1286825141616377, 3.1286825141616377, 3.1286825141616377, 3.1286825141616377, 3.1286825141616377, 3.1286825141616377, 3.1286825141616377, 3.1286825141616377, 3.1286825141616377, 3.1286825141616377, 3.1286825141616377, 3.1286825141616377, 3.065193914530789]}], \"r2_score\": [{\"categories\": [\"0\", \"1\", \"9\", \"17\", \"22\", \"23\", \"24\", \"26\", \"27\", \"28\", \"29\", \"30\", \"31\", \"32\", \"33\", \"39\"], \"mode\": \"markers\", \"name\": \"r2_score\", \"stepped\": false, \"type\": \"scatter\", \"data\": [0.7339967714360682, 0.7855423350655159, 0.8152374432927617, 0.8347293080479895, 0.8213263941818467, 0.8148512469286288, 0.833248132340178, -1.0, -1.0, 0.6118381022091711, 0.6469309475892806, 0.7194859258280643, 0.697409852520249, 0.6879144232150433, 0.8248678401825349, 0.8416346244753271]}, {\"categories\": [\"0\", \"1\", \"9\", \"17\", \"22\", \"23\", \"24\", \"26\", \"27\", \"28\", \"29\", \"30\", \"31\", \"32\", \"33\", \"39\"], \"mode\": \"lines\", \"name\": \"r2_score_max\", \"stepped\": true, \"type\": \"scatter\", \"data\": [0.7339967714360682, 0.7855423350655159, 0.8152374432927617, 0.8347293080479895, 0.8347293080479895, 0.8347293080479895, 0.8347293080479895, 0.8347293080479895, 0.8347293080479895, 0.8347293080479895, 0.8347293080479895, 0.8347293080479895, 0.8347293080479895, 0.8347293080479895, 0.8347293080479895, 0.8416346244753271]}], \"median_absolute_error\": [{\"categories\": [\"0\", \"1\", \"9\", \"17\", \"22\", \"23\", \"24\", \"26\", \"27\", \"28\", \"29\", \"30\", \"31\", \"32\", \"33\", \"39\"], \"mode\": \"markers\", \"name\": \"median_absolute_error\", \"stepped\": false, \"type\": \"scatter\", \"data\": [2.3342101125612422, 1.8390111923217773, 1.603242206573487, 1.8428553226509823, 1.8096920634920644, 1.8802017123840216, 1.8843080653559034, 16.81309388478597, 21.54778343439102, 3.3390827197361515, 3.1519519506994027, 2.423122992483203, 2.614945173164848, 2.0, 1.7968524565817046, 1.7170082405570704]}, {\"categories\": [\"0\", \"1\", \"9\", \"17\", \"22\", \"23\", \"24\", \"26\", \"27\", \"28\", \"29\", \"30\", \"31\", \"32\", \"33\", \"39\"], \"mode\": \"lines\", \"name\": \"median_absolute_error_min\", \"stepped\": true, \"type\": \"scatter\", \"data\": [2.3342101125612422, 1.8390111923217773, 1.603242206573487, 1.603242206573487, 1.603242206573487, 1.603242206573487, 1.603242206573487, 1.603242206573487, 1.603242206573487, 1.603242206573487, 1.603242206573487, 1.603242206573487, 1.603242206573487, 1.603242206573487, 1.603242206573487, 1.603242206573487]}], \"spearman_correlation\": [{\"categories\": [\"0\", \"1\", \"9\", \"17\", \"22\", \"23\", \"24\", \"26\", \"27\", \"28\", \"29\", \"30\", \"31\", \"32\", \"33\", \"39\"], \"mode\": \"markers\", \"name\": \"spearman_correlation\", \"stepped\": false, \"type\": \"scatter\", \"data\": [0.8875016429535879, 0.9141741763301837, 0.9131100141803036, 0.9362662267488698, 0.9213896742151148, 0.9284637213760439, 0.9360601204937194, 0.8668051684865056, 0.8662063933263221, 0.8903917250153478, 0.9079457874689884, 0.8957998776047361, 0.8932927264164626, 0.8838297959030816, 0.9341069505792996, 0.9387523018954584]}, {\"categories\": [\"0\", \"1\", \"9\", \"17\", \"22\", \"23\", \"24\", \"26\", \"27\", \"28\", \"29\", \"30\", \"31\", \"32\", \"33\", \"39\"], \"mode\": \"lines\", \"name\": \"spearman_correlation_max\", \"stepped\": true, \"type\": \"scatter\", \"data\": [0.8875016429535879, 0.9141741763301837, 0.9141741763301837, 0.9362662267488698, 0.9362662267488698, 0.9362662267488698, 0.9362662267488698, 0.9362662267488698, 0.9362662267488698, 0.9362662267488698, 0.9362662267488698, 0.9362662267488698, 0.9362662267488698, 0.9362662267488698, 0.9362662267488698, 0.9387523018954584]}], \"root_mean_squared_log_error\": [{\"categories\": [\"0\", \"1\", \"9\", \"17\", \"22\", \"23\", \"24\", \"26\", \"27\", \"28\", \"29\", \"30\", \"31\", \"32\", \"33\", \"39\"], \"mode\": \"markers\", \"name\": \"root_mean_squared_log_error\", \"stepped\": false, \"type\": \"scatter\", \"data\": [0.15264599577416477, 0.13279609421695326, 0.13429037252262388, 0.12830002468693988, 0.12582953416388476, 0.13005832841252207, 0.12664232678135393, 1.315728594381697, 2.442907183066156, 0.20112116089783758, 0.18926689058151425, 0.1570967159861555, 0.1740551156737851, 0.1596073320965312, 0.12688610228772984, 0.12007124090130185]}, {\"categories\": [\"0\", \"1\", \"9\", \"17\", \"22\", \"23\", \"24\", \"26\", \"27\", \"28\", \"29\", \"30\", \"31\", \"32\", \"33\", \"39\"], \"mode\": \"lines\", \"name\": \"root_mean_squared_log_error_min\", \"stepped\": true, \"type\": \"scatter\", \"data\": [0.15264599577416477, 0.13279609421695326, 0.13279609421695326, 0.12830002468693988, 0.12582953416388476, 0.12582953416388476, 0.12582953416388476, 0.12582953416388476, 0.12582953416388476, 0.12582953416388476, 0.12582953416388476, 0.12582953416388476, 0.12582953416388476, 0.12582953416388476, 0.12582953416388476, 0.12007124090130185]}], \"normalized_mean_absolute_error\": [{\"categories\": [\"0\", \"1\", \"9\", \"17\", \"22\", \"23\", \"24\", \"26\", \"27\", \"28\", \"29\", \"30\", \"31\", \"32\", \"33\", \"39\"], \"mode\": \"markers\", \"name\": \"normalized_mean_absolute_error\", \"stepped\": false, \"type\": \"scatter\", \"data\": [0.08298313312063639, 0.07129035882834571, 0.06594076488595313, 0.06572300222970341, 0.06596964887708627, 0.06812630345617825, 0.06629979451369841, 0.5055281556108442, 0.6292361171274496, 0.10537957250380524, 0.0996801491027735, 0.08671798413605177, 0.08991761116783013, 0.08176304848297426, 0.06681485260347926, 0.062382438353987636]}, {\"categories\": [\"0\", \"1\", \"9\", \"17\", \"22\", \"23\", \"24\", \"26\", \"27\", \"28\", \"29\", \"30\", \"31\", \"32\", \"33\", \"39\"], \"mode\": \"lines\", \"name\": \"normalized_mean_absolute_error_min\", \"stepped\": true, \"type\": \"scatter\", \"data\": [0.08298313312063639, 0.07129035882834571, 0.06594076488595313, 0.06572300222970341, 0.06572300222970341, 0.06572300222970341, 0.06572300222970341, 0.06572300222970341, 0.06572300222970341, 0.06572300222970341, 0.06572300222970341, 0.06572300222970341, 0.06572300222970341, 0.06572300222970341, 0.06572300222970341, 0.062382438353987636]}], \"mean_absolute_error\": [{\"categories\": [\"0\", \"1\", \"9\", \"17\", \"22\", \"23\", \"24\", \"26\", \"27\", \"28\", \"29\", \"30\", \"31\", \"32\", \"33\", \"39\"], \"mode\": \"markers\", \"name\": \"mean_absolute_error\", \"stepped\": false, \"type\": \"scatter\", \"data\": [2.954199539094656, 2.5379367742891077, 2.3474912299399318, 2.3397388793774416, 2.348519500024271, 2.4252964030399458, 2.3602726846876636, 17.996802339746054, 22.400805769737207, 3.751512781135466, 3.548613308058736, 3.087160235243443, 3.201066957574753, 2.9107645259938835, 2.3786087526838617, 2.2208148054019596]}, {\"categories\": [\"0\", \"1\", \"9\", \"17\", \"22\", \"23\", \"24\", \"26\", \"27\", \"28\", \"29\", \"30\", \"31\", \"32\", \"33\", \"39\"], \"mode\": \"lines\", \"name\": \"mean_absolute_error_min\", \"stepped\": true, \"type\": \"scatter\", \"data\": [2.954199539094656, 2.5379367742891077, 2.3474912299399318, 2.3397388793774416, 2.3397388793774416, 2.3397388793774416, 2.3397388793774416, 2.3397388793774416, 2.3397388793774416, 2.3397388793774416, 2.3397388793774416, 2.3397388793774416, 2.3397388793774416, 2.3397388793774416, 2.3397388793774416, 2.2208148054019596]}], \"normalized_root_mean_squared_log_error\": [{\"categories\": [\"0\", \"1\", \"9\", \"17\", \"22\", \"23\", \"24\", \"26\", \"27\", \"28\", \"29\", \"30\", \"31\", \"32\", \"33\", \"39\"], \"mode\": \"markers\", \"name\": \"normalized_root_mean_squared_log_error\", \"stepped\": false, \"type\": \"scatter\", \"data\": [0.10060220114520652, 0.08752001199872177, 0.08850482451156616, 0.08455685211413215, 0.08292866145464427, 0.0857156720633766, 0.08346433699580254, 0.8671383224511026, 1.0, 0.1325500310740949, 0.12473740761978054, 0.10353547330696146, 0.11471200190060886, 0.10519010896021563, 0.08362499861291428, 0.07913362592739397]}, {\"categories\": [\"0\", \"1\", \"9\", \"17\", \"22\", \"23\", \"24\", \"26\", \"27\", \"28\", \"29\", \"30\", \"31\", \"32\", \"33\", \"39\"], \"mode\": \"lines\", \"name\": \"normalized_root_mean_squared_log_error_min\", \"stepped\": true, \"type\": \"scatter\", \"data\": [0.10060220114520652, 0.08752001199872177, 0.08752001199872177, 0.08455685211413215, 0.08292866145464427, 0.08292866145464427, 0.08292866145464427, 0.08292866145464427, 0.08292866145464427, 0.08292866145464427, 0.08292866145464427, 0.08292866145464427, 0.08292866145464427, 0.08292866145464427, 0.08292866145464427, 0.07913362592739397]}], \"explained_variance\": [{\"categories\": [\"0\", \"1\", \"9\", \"17\", \"22\", \"23\", \"24\", \"26\", \"27\", \"28\", \"29\", \"30\", \"31\", \"32\", \"33\", \"39\"], \"mode\": \"markers\", \"name\": \"explained_variance\", \"stepped\": false, \"type\": \"scatter\", \"data\": [0.7410774920866551, 0.7900962518096422, 0.8179337156760101, 0.8377457452277466, 0.8258009149962202, 0.8177399637104606, 0.8365747627531155, 0.2479838776122897, 0.03125235654240196, 0.6191149119961635, 0.6542427870168533, 0.7282216648574305, 0.7048213398754489, 0.6928845051856514, 0.8275941910145118, 0.8486189679716784]}, {\"categories\": [\"0\", \"1\", \"9\", \"17\", \"22\", \"23\", \"24\", \"26\", \"27\", \"28\", \"29\", \"30\", \"31\", \"32\", \"33\", \"39\"], \"mode\": \"lines\", \"name\": \"explained_variance_max\", \"stepped\": true, \"type\": \"scatter\", \"data\": [0.7410774920866551, 0.7900962518096422, 0.8179337156760101, 0.8377457452277466, 0.8377457452277466, 0.8377457452277466, 0.8377457452277466, 0.8377457452277466, 0.8377457452277466, 0.8377457452277466, 0.8377457452277466, 0.8377457452277466, 0.8377457452277466, 0.8377457452277466, 0.8377457452277466, 0.8486189679716784]}]}, \"metricName\": null, \"primaryMetricName\": \"r2_score\", \"showLegend\": false}, \"run_metrics\": [{\"name\": \"experiment_status\", \"run_id\": \"AutoML_6247aa15-f1e6-4f70-9d32-6bf40f61c9e9\", \"categories\": [0, 1, 2, 3, 4, 5], \"series\": [{\"data\": [\"DatasetEvaluation\", \"FeaturesGeneration\", \"DatasetFeaturization\", \"DatasetFeaturizationCompleted\", \"DatasetCrossValidationSplit\", \"ModelSelection\"]}]}, {\"name\": \"experiment_status_description\", \"run_id\": \"AutoML_6247aa15-f1e6-4f70-9d32-6bf40f61c9e9\", \"categories\": [0, 1, 2, 3, 4, 5], \"series\": [{\"data\": [\"Gathering dataset statistics.\", \"Generating features for the dataset.\", \"Beginning to fit featurizers and featurize the dataset.\", \"Completed fit featurizers and featurizing the dataset.\", \"Generating individually featurized CV splits.\", \"Beginning model selection.\"]}]}, {\"name\": \"normalized_root_mean_squared_log_error\", \"run_id\": \"AutoML_6247aa15-f1e6-4f70-9d32-6bf40f61c9e9\", \"categories\": [0], \"series\": [{\"data\": [0.07498289161868123]}]}, {\"name\": \"normalized_median_absolute_error\", \"run_id\": \"AutoML_6247aa15-f1e6-4f70-9d32-6bf40f61c9e9\", \"categories\": [0], \"series\": [{\"data\": [0.046254475741404955]}]}, {\"name\": \"mean_absolute_error\", \"run_id\": \"AutoML_6247aa15-f1e6-4f70-9d32-6bf40f61c9e9\", \"categories\": [0], \"series\": [{\"data\": [2.128777709228197]}]}, {\"name\": \"root_mean_squared_log_error\", \"run_id\": \"AutoML_6247aa15-f1e6-4f70-9d32-6bf40f61c9e9\", \"categories\": [0], \"series\": [{\"data\": [0.11377323783044523]}]}, {\"name\": \"normalized_mean_absolute_error\", \"run_id\": \"AutoML_6247aa15-f1e6-4f70-9d32-6bf40f61c9e9\", \"categories\": [0], \"series\": [{\"data\": [0.059797126663713396]}]}, {\"name\": \"spearman_correlation\", \"run_id\": \"AutoML_6247aa15-f1e6-4f70-9d32-6bf40f61c9e9\", \"categories\": [0], \"series\": [{\"data\": [0.9431733354338027]}]}, {\"name\": \"normalized_root_mean_squared_error\", \"run_id\": \"AutoML_6247aa15-f1e6-4f70-9d32-6bf40f61c9e9\", \"categories\": [0], \"series\": [{\"data\": [0.0817141063495718]}]}, {\"name\": \"mean_absolute_percentage_error\", \"run_id\": \"AutoML_6247aa15-f1e6-4f70-9d32-6bf40f61c9e9\", \"categories\": [0], \"series\": [{\"data\": [9.234619464132292]}]}, {\"name\": \"r2_score\", \"run_id\": \"AutoML_6247aa15-f1e6-4f70-9d32-6bf40f61c9e9\", \"categories\": [0], \"series\": [{\"data\": [0.8574798578596733]}]}, {\"name\": \"root_mean_squared_error\", \"run_id\": \"AutoML_6247aa15-f1e6-4f70-9d32-6bf40f61c9e9\", \"categories\": [0], \"series\": [{\"data\": [2.9090221860447563]}]}, {\"name\": \"median_absolute_error\", \"run_id\": \"AutoML_6247aa15-f1e6-4f70-9d32-6bf40f61c9e9\", \"categories\": [0], \"series\": [{\"data\": [1.6466593363940165]}]}, {\"name\": \"explained_variance\", \"run_id\": \"AutoML_6247aa15-f1e6-4f70-9d32-6bf40f61c9e9\", \"categories\": [0], \"series\": [{\"data\": [0.8604689954596157]}]}], \"run_logs\": \"\\nRun is completed.\", \"graph\": {}, \"widget_settings\": {\"childWidgetDisplay\": \"popup\", \"send_telemetry\": false, \"log_level\": \"INFO\", \"sdk_version\": \"1.49.0\"}, \"loading\": false}"
          },
          "metadata": {},
          "output_type": "display_data"
        },
        {
          "data": {
            "application/vnd.jupyter.widget-view+json": {
              "model_id": "d1f84fe12825464fa9c0b6505b0f57a3",
              "version_major": 2,
              "version_minor": 0
            },
            "text/plain": [
              "_UserRunWidget(widget_settings={'childWidgetDisplay': 'popup', 'send_telemetry': False, 'log_level': 'INFO', '…"
            ]
          },
          "metadata": {},
          "output_type": "display_data"
        },
        {
          "data": {
            "application/aml.mini.widget.v1": "\"AuthenticationException:\\n\\tMessage: Please ensure you have network connection. Error detail: HTTPSConnectionPool(host='login.microsoftonline.com', port=443): Max retries exceeded with url: /organizations/v2.0/.well-known/openid-configuration (Caused by NewConnectionError('<urllib3.connection.HTTPSConnection object at 0x00000222B73392B0>: Failed to establish a new connection: [Errno 11001] getaddrinfo failed'))\\n\\tInnerException None\\n\\tErrorResponse \\n{\\n    \\\"error\\\": {\\n        \\\"code\\\": \\\"UserError\\\",\\n        \\\"inner_error\\\": {\\n            \\\"code\\\": \\\"Authentication\\\"\\n        },\\n        \\\"message\\\": \\\"Please ensure you have network connection. Error detail: HTTPSConnectionPool(host='login.microsoftonline.com', port=443): Max retries exceeded with url: /organizations/v2.0/.well-known/openid-configuration (Caused by NewConnectionError('<urllib3.connection.HTTPSConnection object at 0x00000222B73392B0>: Failed to establish a new connection: [Errno 11001] getaddrinfo failed'))\\\"\\n    }\\n}\""
          },
          "metadata": {},
          "output_type": "display_data"
        },
        {
          "name": "stdout",
          "output_type": "stream",
          "text": [
            "Current provisioning state of AmlCompute is \"Deleting\"\n",
            "\n",
            "Current provisioning state of AmlCompute is \"Deleting\"\n",
            "\n",
            "Current provisioning state of AmlCompute is \"Deleting\"\n",
            "\n",
            "Current provisioning state of AmlCompute is \"Deleting\"\n",
            "\n"
          ]
        },
        {
          "name": "stderr",
          "output_type": "stream",
          "text": [
            "WARNING:azureml._vendor.azure_cli_core.auth.identity:The default web browser has been opened at https://login.microsoftonline.com/organizations/oauth2/v2.0/authorize. Please continue the login in the web browser. If no web browser is available or if the web browser fails to open, use device code flow with `az login --use-device-code`.\n"
          ]
        }
      ],
      "source": [
        "#monitor run details\n",
        "\n",
        "RunDetails(remote_run).show()"
      ]
    },
    {
      "cell_type": "code",
      "execution_count": 13,
      "metadata": {
        "gather": {
          "logged": 1681190307029
        }
      },
      "outputs": [
        {
          "data": {
            "text/plain": [
              "{'runId': 'AutoML_6247aa15-f1e6-4f70-9d32-6bf40f61c9e9',\n",
              " 'target': 'auto-ml',\n",
              " 'status': 'Completed',\n",
              " 'startTimeUtc': '2023-05-31T05:47:26.37003Z',\n",
              " 'endTimeUtc': '2023-05-31T06:03:18.174Z',\n",
              " 'services': {},\n",
              " 'warnings': [{'source': 'JasmineService',\n",
              "   'message': 'No scores improved over last 10 iterations, so experiment stopped early. This early stopping behavior can be disabled by setting enable_early_stopping = False in AutoMLConfig for notebook/python SDK runs.'}],\n",
              " 'properties': {'num_iterations': '1000',\n",
              "  'training_type': 'TrainFull',\n",
              "  'acquisition_function': 'EI',\n",
              "  'primary_metric': 'r2_score',\n",
              "  'train_split': '0',\n",
              "  'acquisition_parameter': '0',\n",
              "  'num_cross_validation': '3',\n",
              "  'target': 'auto-ml',\n",
              "  'AMLSettingsJsonString': '{\"path\":null,\"name\":\"MPG-Prediction\",\"subscription_id\":\"b968fb36-f06a-4c76-a15f-afab68ae7667\",\"resource_group\":\"aml-quickstarts-234714\",\"workspace_name\":\"quick-starts-ws-234714\",\"region\":\"westus2\",\"compute_target\":\"auto-ml\",\"spark_service\":null,\"azure_service\":\"remote\",\"many_models\":false,\"pipeline_fetch_max_batch_size\":1,\"enable_batch_run\":true,\"enable_parallel_run\":false,\"num_procs\":null,\"enable_run_restructure\":false,\"start_auxiliary_runs_before_parent_complete\":false,\"enable_code_generation\":true,\"iterations\":1000,\"primary_metric\":\"r2_score\",\"task_type\":\"regression\",\"positive_label\":null,\"data_script\":null,\"test_size\":0.0,\"test_include_predictions_only\":false,\"validation_size\":0.0,\"n_cross_validations\":3,\"y_min\":null,\"y_max\":null,\"num_classes\":null,\"featurization\":\"auto\",\"_ignore_package_version_incompatibilities\":false,\"is_timeseries\":false,\"max_cores_per_iteration\":1,\"max_concurrent_iterations\":5,\"iteration_timeout_minutes\":null,\"mem_in_mb\":null,\"enforce_time_on_windows\":true,\"experiment_timeout_minutes\":30,\"experiment_exit_score\":null,\"partition_column_names\":null,\"whitelist_models\":null,\"blacklist_algos\":[\"TensorFlowDNN\",\"TensorFlowLinearRegressor\"],\"supported_models\":[\"KNN\",\"SGD\",\"ExtremeRandomTrees\",\"XGBoostRegressor\",\"GradientBoosting\",\"TensorFlowLinearRegressor\",\"TabnetRegressor\",\"ElasticNet\",\"RandomForest\",\"LightGBM\",\"TensorFlowDNN\",\"LassoLars\",\"FastLinearRegressor\",\"OnlineGradientDescentRegressor\",\"DecisionTree\"],\"private_models\":[],\"auto_blacklist\":true,\"blacklist_samples_reached\":false,\"exclude_nan_labels\":true,\"verbosity\":20,\"_debug_log\":\"azureml_automl.log\",\"show_warnings\":false,\"model_explainability\":true,\"service_url\":null,\"sdk_url\":null,\"sdk_packages\":null,\"enable_onnx_compatible_models\":false,\"enable_split_onnx_featurizer_estimator_models\":false,\"vm_type\":\"STANDARD_D2_V2\",\"telemetry_verbosity\":20,\"send_telemetry\":true,\"enable_dnn\":false,\"scenario\":\"AutoML\",\"environment_label\":null,\"save_mlflow\":false,\"enable_categorical_indicators\":false,\"force_text_dnn\":false,\"enable_feature_sweeping\":true,\"enable_early_stopping\":true,\"early_stopping_n_iters\":10,\"arguments\":null,\"dataset_id\":\"31c77d77-de5c-48b9-b5a1-5ae0b5f57418\",\"hyperdrive_config\":null,\"validation_dataset_id\":null,\"run_source\":null,\"metrics\":null,\"enable_metric_confidence\":false,\"enable_ensembling\":true,\"enable_stack_ensembling\":true,\"ensemble_iterations\":15,\"enable_tf\":false,\"enable_subsampling\":null,\"subsample_seed\":null,\"enable_nimbusml\":false,\"enable_streaming\":false,\"force_streaming\":false,\"track_child_runs\":true,\"n_best_runs\":1,\"allowed_private_models\":[],\"label_column_name\":\"mpg\",\"weight_column_name\":null,\"cv_split_column_names\":null,\"enable_local_managed\":false,\"_local_managed_run_id\":null,\"cost_mode\":1,\"lag_length\":0,\"metric_operation\":\"maximize\",\"preprocess\":true}',\n",
              "  'DataPrepJsonString': '{\\\\\"training_data\\\\\": {\\\\\"datasetId\\\\\": \\\\\"31c77d77-de5c-48b9-b5a1-5ae0b5f57418\\\\\"}, \\\\\"datasets\\\\\": 0}',\n",
              "  'EnableSubsampling': None,\n",
              "  'runTemplate': 'AutoML',\n",
              "  'azureml.runsource': 'automl',\n",
              "  'display_task_type': 'regression',\n",
              "  'dependencies_versions': '{\"azureml\": \"0.2.7\", \"azureml-widgets\": \"1.49.0\", \"azureml-training-tabular\": \"1.49.0\", \"azureml-train-restclients-hyperdrive\": \"1.49.0\", \"azureml-train-core\": \"1.49.0\", \"azureml-train-automl\": \"1.49.0\", \"azureml-train-automl-runtime\": \"1.49.0\", \"azureml-train-automl-client\": \"1.49.0\", \"azureml-telemetry\": \"1.49.0\", \"azureml-pipeline\": \"1.49.0\", \"azureml-pipeline-steps\": \"1.49.0\", \"azureml-pipeline-core\": \"1.49.0\", \"azureml-mlflow\": \"1.49.0\", \"azureml-interpret\": \"1.49.0\", \"azureml-dataset-runtime\": \"1.49.0\", \"azureml-dataprep\": \"4.9.2\", \"azureml-dataprep-rslex\": \"2.16.3\", \"azureml-dataprep-native\": \"38.0.0\", \"azureml-core\": \"1.49.0\", \"azureml-automl-runtime\": \"1.49.0\", \"azureml-automl-core\": \"1.49.0\"}',\n",
              "  '_aml_system_scenario_identification': 'Remote.Parent',\n",
              "  'ClientType': 'SDK',\n",
              "  'PlatformVersion': 'DPV1',\n",
              "  'environment_cpu_name': 'AzureML-AutoML',\n",
              "  'environment_cpu_label': 'prod',\n",
              "  'environment_gpu_name': 'AzureML-AutoML-GPU',\n",
              "  'environment_gpu_label': 'prod',\n",
              "  'root_attribution': 'automl',\n",
              "  'attribution': 'AutoML',\n",
              "  'Orchestrator': 'AutoML',\n",
              "  'CancelUri': 'https://westus2.api.azureml.ms/jasmine/v1.0/subscriptions/b968fb36-f06a-4c76-a15f-afab68ae7667/resourceGroups/aml-quickstarts-234714/providers/Microsoft.MachineLearningServices/workspaces/quick-starts-ws-234714/experimentids/45bde224-7c85-4611-99d5-13b53d1beec2/cancel/AutoML_6247aa15-f1e6-4f70-9d32-6bf40f61c9e9',\n",
              "  'ClientSdkVersion': None,\n",
              "  'snapshotId': '00000000-0000-0000-0000-000000000000',\n",
              "  'SetupRunId': 'AutoML_6247aa15-f1e6-4f70-9d32-6bf40f61c9e9_setup',\n",
              "  'SetupRunContainerId': 'dcid.AutoML_6247aa15-f1e6-4f70-9d32-6bf40f61c9e9_setup',\n",
              "  'FeaturizationRunJsonPath': 'featurizer_container.json',\n",
              "  'FeaturizationRunId': 'AutoML_6247aa15-f1e6-4f70-9d32-6bf40f61c9e9_featurize',\n",
              "  'ProblemInfoJsonString': '{\"dataset_num_categorical\": 0, \"is_sparse\": true, \"subsampling\": false, \"has_extra_col\": true, \"dataset_classes\": 116, \"dataset_features\": 24, \"dataset_samples\": 328, \"single_frequency_class_detected\": false}',\n",
              "  'ModelExplainRunId': 'AutoML_6247aa15-f1e6-4f70-9d32-6bf40f61c9e9_ModelExplain',\n",
              "  'azureml.git.repository_uri': 'https://github.com/ebbindaniel/Capstone-Project-Azure-AutoML.git',\n",
              "  'mlflow.source.git.repoURL': 'https://github.com/ebbindaniel/Capstone-Project-Azure-AutoML.git',\n",
              "  'azureml.git.branch': 'main',\n",
              "  'mlflow.source.git.branch': 'main',\n",
              "  'azureml.git.commit': '24755fc6304bba8102a5de210e70578ca1ac74c6',\n",
              "  'mlflow.source.git.commit': '24755fc6304bba8102a5de210e70578ca1ac74c6',\n",
              "  'azureml.git.dirty': 'True'},\n",
              " 'inputDatasets': [{'dataset': {'id': '31c77d77-de5c-48b9-b5a1-5ae0b5f57418'}, 'consumptionDetails': {'type': 'RunInput', 'inputName': 'training_data', 'mechanism': 'Direct'}}],\n",
              " 'outputDatasets': [],\n",
              " 'logFiles': {},\n",
              " 'submittedBy': 'ODL_User 234714'}"
            ]
          },
          "execution_count": 13,
          "metadata": {},
          "output_type": "execute_result"
        }
      ],
      "source": [
        "remote_run.wait_for_completion()"
      ]
    },
    {
      "attachments": {},
      "cell_type": "markdown",
      "metadata": {},
      "source": [
        "## Best Model\n",
        "\n",
        "\n"
      ]
    },
    {
      "cell_type": "code",
      "execution_count": 14,
      "metadata": {
        "gather": {
          "logged": 1681190549287
        },
        "jupyter": {
          "outputs_hidden": false,
          "source_hidden": false
        },
        "nteract": {
          "transient": {
            "deleting": false
          }
        }
      },
      "outputs": [
        {
          "name": "stderr",
          "output_type": "stream",
          "text": [
            "WARNING:root:The version of the SDK does not match the version the model was trained on.\n",
            "WARNING:root:The consistency in the result may not be guaranteed.\n",
            "WARNING:root:Package:azureml-automl-core, training version:1.50.0, current version:1.49.0\n",
            "Package:azureml-automl-runtime, training version:1.50.0, current version:1.49.0\n",
            "Package:azureml-core, training version:1.50.0, current version:1.49.0\n",
            "Package:azureml-dataprep, training version:4.10.6, current version:4.9.2\n",
            "Package:azureml-dataprep-rslex, training version:2.17.5, current version:2.16.3\n",
            "Package:azureml-dataset-runtime, training version:1.50.0, current version:1.49.0\n",
            "Package:azureml-interpret, training version:1.50.0, current version:1.49.0\n",
            "Package:azureml-mlflow, training version:1.50.0, current version:1.49.0\n",
            "Package:azureml-pipeline-core, training version:1.50.0.post1, current version:1.49.0\n",
            "Package:azureml-telemetry, training version:1.50.0, current version:1.49.0\n",
            "Package:azureml-train-automl-client, training version:1.50.0, current version:1.49.0\n",
            "Package:azureml-train-automl-runtime, training version:1.50.0, current version:1.49.0\n",
            "Package:azureml-train-core, training version:1.50.0, current version:1.49.0\n",
            "Package:azureml-train-restclients-hyperdrive, training version:1.50.0, current version:1.49.0\n",
            "Package:azureml-training-tabular, training version:1.50.0, current version:1.49.0\n",
            "WARNING:root:Below packages were used for model training but missing in current environment:\n",
            "WARNING:root:Package:azureml-defaults, training version:1.50.0\n",
            "Package:azureml-inference-server-http, training version:0.8.3\n",
            "Package:azureml-responsibleai, training version:1.50.0\n",
            "WARNING:root:The consistency in the result may not be guaranteed.\n",
            "WARNING:root:Package:azureml-automl-core, training version:1.50.0, current version:1.49.0\n",
            "Package:azureml-automl-runtime, training version:1.50.0, current version:1.49.0\n",
            "Package:azureml-core, training version:1.50.0, current version:1.49.0\n",
            "Package:azureml-dataprep, training version:4.10.6, current version:4.9.2\n",
            "Package:azureml-dataprep-rslex, training version:2.17.5, current version:2.16.3\n",
            "Package:azureml-dataset-runtime, training version:1.50.0, current version:1.49.0\n",
            "Package:azureml-interpret, training version:1.50.0, current version:1.49.0\n",
            "Package:azureml-mlflow, training version:1.50.0, current version:1.49.0\n",
            "Package:azureml-pipeline-core, training version:1.50.0.post1, current version:1.49.0\n",
            "Package:azureml-telemetry, training version:1.50.0, current version:1.49.0\n",
            "Package:azureml-train-automl-client, training version:1.50.0, current version:1.49.0\n",
            "Package:azureml-train-automl-runtime, training version:1.50.0, current version:1.49.0\n",
            "Package:azureml-train-core, training version:1.50.0, current version:1.49.0\n",
            "Package:azureml-train-restclients-hyperdrive, training version:1.50.0, current version:1.49.0\n",
            "Package:azureml-training-tabular, training version:1.50.0, current version:1.49.0\n",
            "WARNING:root:Below packages were used for model training but missing in current environment:\n",
            "WARNING:root:Package:azureml-defaults, training version:1.50.0\n",
            "Package:azureml-inference-server-http, training version:0.8.3\n",
            "Package:azureml-responsibleai, training version:1.50.0\n",
            "WARNING:root:Please ensure the version of your local conda dependencies match the version on which your model was trained in order to properly retrieve your model.\n",
            "ERROR:azureml._file_utils.file_utils:Failed to download file with error: [Errno 13] Permission denied: 'C:\\\\Users\\\\ebbin\\\\AppData\\\\Local\\\\Temp\\\\tmpnl3ex4m6'\n"
          ]
        },
        {
          "ename": "TypeError",
          "evalue": "Descriptors cannot not be created directly.\nIf this call came from a _pb2.py file, your generated code is out of date and must be regenerated with protoc >= 3.19.0.\nIf you cannot immediately regenerate your protos, some other possible workarounds are:\n 1. Downgrade the protobuf package to 3.20.x or lower.\n 2. Set PROTOCOL_BUFFERS_PYTHON_IMPLEMENTATION=python (but this will use pure-Python parsing and will be much slower).\n\nMore information: https://developers.google.com/protocol-buffers/docs/news/2022-05-06#python-updates",
          "output_type": "error",
          "traceback": [
            "\u001b[1;31m---------------------------------------------------------------------------\u001b[0m",
            "\u001b[1;31mTypeError\u001b[0m                                 Traceback (most recent call last)",
            "\u001b[1;32m~\\AppData\\Local\\Temp\\ipykernel_42820\\430069457.py\u001b[0m in \u001b[0;36m<module>\u001b[1;34m\u001b[0m\n\u001b[0;32m      1\u001b[0m \u001b[1;31m#Save the best model\u001b[0m\u001b[1;33m\u001b[0m\u001b[1;33m\u001b[0m\u001b[0m\n\u001b[0;32m      2\u001b[0m \u001b[1;33m\u001b[0m\u001b[0m\n\u001b[1;32m----> 3\u001b[1;33m \u001b[0mbest_run\u001b[0m\u001b[1;33m,\u001b[0m \u001b[0mfitted_model\u001b[0m \u001b[1;33m=\u001b[0m \u001b[0mremote_run\u001b[0m\u001b[1;33m.\u001b[0m\u001b[0mget_output\u001b[0m\u001b[1;33m(\u001b[0m\u001b[1;33m)\u001b[0m\u001b[1;33m\u001b[0m\u001b[0m\n\u001b[0m\u001b[0;32m      4\u001b[0m \u001b[1;33m\u001b[0m\u001b[0m\n\u001b[0;32m      5\u001b[0m \u001b[0mprint\u001b[0m\u001b[1;33m(\u001b[0m\u001b[1;34m\"best run details :\"\u001b[0m\u001b[1;33m,\u001b[0m\u001b[0mbest_run\u001b[0m\u001b[1;33m.\u001b[0m\u001b[0mget_details\u001b[0m\u001b[1;33m(\u001b[0m\u001b[1;33m)\u001b[0m\u001b[1;33m)\u001b[0m\u001b[1;33m\u001b[0m\u001b[0m\n",
            "\u001b[1;32mc:\\Users\\ebbin\\AppData\\Local\\Programs\\Python\\Python37\\lib\\site-packages\\azureml\\train\\automl\\run.py\u001b[0m in \u001b[0;36mget_output\u001b[1;34m(self, iteration, metric, return_onnx_model, return_split_onnx_model, **kwargs)\u001b[0m\n\u001b[0;32m    716\u001b[0m                     \u001b[0mfitted_model\u001b[0m \u001b[1;33m=\u001b[0m \u001b[0m_download_automl_onnx_model\u001b[0m\u001b[1;33m(\u001b[0m\u001b[0mcurr_run\u001b[0m\u001b[1;33m,\u001b[0m \u001b[0mmodel_name\u001b[0m\u001b[1;33m)\u001b[0m\u001b[1;33m\u001b[0m\u001b[0m\n\u001b[0;32m    717\u001b[0m                 \u001b[1;32melse\u001b[0m\u001b[1;33m:\u001b[0m\u001b[1;33m\u001b[0m\u001b[0m\n\u001b[1;32m--> 718\u001b[1;33m                     \u001b[0mfitted_model\u001b[0m \u001b[1;33m=\u001b[0m \u001b[0m_download_automl_model\u001b[0m\u001b[1;33m(\u001b[0m\u001b[0mcurr_run\u001b[0m\u001b[1;33m,\u001b[0m \u001b[0mmodel_name\u001b[0m\u001b[1;33m)\u001b[0m\u001b[1;33m\u001b[0m\u001b[0m\n\u001b[0m\u001b[0;32m    719\u001b[0m \u001b[1;33m\u001b[0m\u001b[0m\n\u001b[0;32m    720\u001b[0m             \u001b[1;32mreturn\u001b[0m \u001b[0mcurr_run\u001b[0m\u001b[1;33m,\u001b[0m \u001b[0mfitted_model\u001b[0m\u001b[1;33m\u001b[0m\u001b[0m\n",
            "\u001b[1;32mc:\\Users\\ebbin\\AppData\\Local\\Programs\\Python\\Python37\\lib\\site-packages\\azureml\\train\\automl\\_model_download_utilities.py\u001b[0m in \u001b[0;36m_download_automl_model\u001b[1;34m(run, model_name)\u001b[0m\n\u001b[0;32m     78\u001b[0m             \u001b[1;31m# Pass through any exceptions from loading the model.\u001b[0m\u001b[1;33m\u001b[0m\u001b[1;33m\u001b[0m\u001b[0m\n\u001b[0;32m     79\u001b[0m             \u001b[1;31m# Try is used here to ensure we can cleanup the side effect of model downlad.\u001b[0m\u001b[1;33m\u001b[0m\u001b[1;33m\u001b[0m\u001b[0m\n\u001b[1;32m---> 80\u001b[1;33m             \u001b[0mmodel\u001b[0m \u001b[1;33m=\u001b[0m \u001b[0m_load_automl_model\u001b[0m\u001b[1;33m(\u001b[0m\u001b[0mmodel_path\u001b[0m\u001b[1;33m,\u001b[0m \u001b[0msuffix\u001b[0m\u001b[1;33m)\u001b[0m\u001b[1;33m\u001b[0m\u001b[0m\n\u001b[0m\u001b[0;32m     81\u001b[0m             \u001b[1;32mif\u001b[0m \u001b[0mmodel\u001b[0m \u001b[1;32mis\u001b[0m \u001b[1;32mNone\u001b[0m\u001b[1;33m:\u001b[0m\u001b[1;33m\u001b[0m\u001b[0m\n\u001b[0;32m     82\u001b[0m                 \u001b[1;31m# If we can retrieve the automl runtime version, we do so we can inform the user what to install.\u001b[0m\u001b[1;33m\u001b[0m\u001b[1;33m\u001b[0m\u001b[0m\n",
            "\u001b[1;32mc:\\Users\\ebbin\\AppData\\Local\\Programs\\Python\\Python37\\lib\\site-packages\\azureml\\train\\automl\\_model_download_utilities.py\u001b[0m in \u001b[0;36m_load_automl_model\u001b[1;34m(model_path, suffix)\u001b[0m\n\u001b[0;32m    170\u001b[0m         \u001b[1;32mif\u001b[0m \u001b[1;32mnot\u001b[0m \u001b[0mis_torch_model\u001b[0m\u001b[1;33m:\u001b[0m\u001b[1;33m\u001b[0m\u001b[0m\n\u001b[0;32m    171\u001b[0m             \u001b[1;32mwith\u001b[0m \u001b[0mopen\u001b[0m\u001b[1;33m(\u001b[0m\u001b[0mmodel_path\u001b[0m\u001b[1;33m,\u001b[0m \u001b[1;34m\"rb\"\u001b[0m\u001b[1;33m)\u001b[0m \u001b[1;32mas\u001b[0m \u001b[0mmodel_file\u001b[0m\u001b[1;33m:\u001b[0m\u001b[1;33m\u001b[0m\u001b[0m\n\u001b[1;32m--> 172\u001b[1;33m                 \u001b[0mfitted_model\u001b[0m \u001b[1;33m=\u001b[0m \u001b[0mpickle\u001b[0m\u001b[1;33m.\u001b[0m\u001b[0mload\u001b[0m\u001b[1;33m(\u001b[0m\u001b[0mmodel_file\u001b[0m\u001b[1;33m)\u001b[0m  \u001b[1;31m# type: Optional[Any]\u001b[0m\u001b[1;33m\u001b[0m\u001b[0m\n\u001b[0m\u001b[0;32m    173\u001b[0m                 \u001b[1;32mreturn\u001b[0m \u001b[0mfitted_model\u001b[0m\u001b[1;33m\u001b[0m\u001b[0m\n\u001b[0;32m    174\u001b[0m         \u001b[1;32melse\u001b[0m\u001b[1;33m:\u001b[0m\u001b[1;33m\u001b[0m\u001b[0m\n",
            "\u001b[1;32mc:\\Users\\ebbin\\AppData\\Local\\Programs\\Python\\Python37\\lib\\site-packages\\azureml\\automl\\runtime\\featurization\\data_transformer.py\u001b[0m in \u001b[0;36m__setstate__\u001b[1;34m(self, state)\u001b[0m\n\u001b[0;32m    996\u001b[0m         \u001b[1;31m# In case new fields are added in later versions of the SDK, this will add those new fields only to the\u001b[0m\u001b[1;33m\u001b[0m\u001b[1;33m\u001b[0m\u001b[0m\n\u001b[0;32m    997\u001b[0m         \u001b[1;31m# `state`.\u001b[0m\u001b[1;33m\u001b[0m\u001b[1;33m\u001b[0m\u001b[0m\n\u001b[1;32m--> 998\u001b[1;33m         \u001b[0mnew_data_transformer\u001b[0m \u001b[1;33m=\u001b[0m \u001b[0mDataTransformer\u001b[0m\u001b[1;33m(\u001b[0m\u001b[1;33m)\u001b[0m\u001b[1;33m\u001b[0m\u001b[0m\n\u001b[0m\u001b[0;32m    999\u001b[0m \u001b[1;33m\u001b[0m\u001b[0m\n\u001b[0;32m   1000\u001b[0m         \u001b[1;31m# In older versions of the SDK, We assume that `fit` has been called when _has_fit_been_called_and_succeeded\u001b[0m\u001b[1;33m\u001b[0m\u001b[1;33m\u001b[0m\u001b[0m\n",
            "\u001b[1;32mc:\\Users\\ebbin\\AppData\\Local\\Programs\\Python\\Python37\\lib\\site-packages\\azureml\\automl\\runtime\\featurization\\data_transformer.py\u001b[0m in \u001b[0;36m__init__\u001b[1;34m(self, task, is_onnx_compatible, observer, enable_feature_sweeping, enable_dnn, force_text_dnn, feature_sweeping_timeout, featurization_config, is_cross_validation, feature_sweeping_config, working_dir, enable_categorical_indicators)\u001b[0m\n\u001b[0;32m    196\u001b[0m         \u001b[0mself\u001b[0m\u001b[1;33m.\u001b[0m\u001b[0m_featurization_config\u001b[0m \u001b[1;33m=\u001b[0m \u001b[0mfeaturization_config\u001b[0m\u001b[1;33m\u001b[0m\u001b[0m\n\u001b[0;32m    197\u001b[0m         \u001b[0mself\u001b[0m\u001b[1;33m.\u001b[0m\u001b[0m_feature_sweeped\u001b[0m \u001b[1;33m=\u001b[0m \u001b[1;32mFalse\u001b[0m\u001b[1;33m\u001b[0m\u001b[0m\n\u001b[1;32m--> 198\u001b[1;33m         \u001b[1;32mfrom\u001b[0m \u001b[0mazureml\u001b[0m\u001b[1;33m.\u001b[0m\u001b[0mautoml\u001b[0m\u001b[1;33m.\u001b[0m\u001b[0mruntime\u001b[0m\u001b[1;33m.\u001b[0m\u001b[0msweeping\u001b[0m\u001b[1;33m.\u001b[0m\u001b[0mmeta_sweeper\u001b[0m \u001b[1;32mimport\u001b[0m \u001b[0mMetaSweeper\u001b[0m\u001b[1;33m\u001b[0m\u001b[0m\n\u001b[0m\u001b[0;32m    199\u001b[0m \u001b[1;33m\u001b[0m\u001b[0m\n\u001b[0;32m    200\u001b[0m         \u001b[0mself\u001b[0m\u001b[1;33m.\u001b[0m\u001b[0m_feature_sweeper\u001b[0m \u001b[1;33m=\u001b[0m \u001b[1;32mNone\u001b[0m  \u001b[1;31m# type: Optional[MetaSweeper]\u001b[0m\u001b[1;33m\u001b[0m\u001b[0m\n",
            "\u001b[1;32mc:\\Users\\ebbin\\AppData\\Local\\Programs\\Python\\Python37\\lib\\site-packages\\azureml\\automl\\runtime\\sweeping\\meta_sweeper.py\u001b[0m in \u001b[0;36m<module>\u001b[1;34m\u001b[0m\n\u001b[0;32m     34\u001b[0m \u001b[1;32mfrom\u001b[0m \u001b[1;33m.\u001b[0m\u001b[1;33m.\u001b[0m\u001b[0mfeaturization\u001b[0m \u001b[1;32mimport\u001b[0m \u001b[0mFeaturizers\u001b[0m\u001b[1;33m\u001b[0m\u001b[0m\n\u001b[0;32m     35\u001b[0m \u001b[1;32mfrom\u001b[0m \u001b[1;33m.\u001b[0m\u001b[1;33m.\u001b[0m\u001b[0msampling\u001b[0m \u001b[1;32mimport\u001b[0m \u001b[0mAbstractSampler\u001b[0m\u001b[1;33m,\u001b[0m \u001b[0mDataProvider\u001b[0m\u001b[1;33m,\u001b[0m \u001b[0mDiskBasedDataProvider\u001b[0m\u001b[1;33m,\u001b[0m \u001b[0mInMemoryDataProvider\u001b[0m\u001b[1;33m,\u001b[0m \u001b[0mSamplers\u001b[0m\u001b[1;33m\u001b[0m\u001b[0m\n\u001b[1;32m---> 36\u001b[1;33m \u001b[1;32mfrom\u001b[0m \u001b[1;33m.\u001b[0m\u001b[1;33m.\u001b[0m\u001b[0mscoring\u001b[0m \u001b[1;32mimport\u001b[0m \u001b[0mScorers\u001b[0m\u001b[1;33m,\u001b[0m \u001b[0mAbstractScorer\u001b[0m\u001b[1;33m\u001b[0m\u001b[0m\n\u001b[0m\u001b[0;32m     37\u001b[0m \u001b[1;32mfrom\u001b[0m \u001b[1;33m.\u001b[0m\u001b[1;33m.\u001b[0m\u001b[0msweeping\u001b[0m\u001b[1;33m.\u001b[0m\u001b[0mabstract_sweeper\u001b[0m \u001b[1;32mimport\u001b[0m \u001b[0mAbstractSweeper\u001b[0m\u001b[1;33m\u001b[0m\u001b[0m\n\u001b[0;32m     38\u001b[0m \u001b[1;32mfrom\u001b[0m \u001b[1;33m.\u001b[0m\u001b[1;33m.\u001b[0m\u001b[0msweeping\u001b[0m\u001b[1;33m.\u001b[0m\u001b[0msweepers\u001b[0m \u001b[1;32mimport\u001b[0m \u001b[0mSweepers\u001b[0m\u001b[1;33m\u001b[0m\u001b[0m\n",
            "\u001b[1;32mc:\\Users\\ebbin\\AppData\\Local\\Programs\\Python\\Python37\\lib\\site-packages\\azureml\\automl\\runtime\\scoring\\__init__.py\u001b[0m in \u001b[0;36m<module>\u001b[1;34m\u001b[0m\n\u001b[0;32m      3\u001b[0m \u001b[1;31m# ---------------------------------------------------------\u001b[0m\u001b[1;33m\u001b[0m\u001b[1;33m\u001b[0m\u001b[0m\n\u001b[0;32m      4\u001b[0m \u001b[1;34m\"\"\"Classes and methods for performing scoring.\"\"\"\u001b[0m\u001b[1;33m\u001b[0m\u001b[0m\n\u001b[1;32m----> 5\u001b[1;33m \u001b[1;32mfrom\u001b[0m \u001b[1;33m.\u001b[0m\u001b[0mabstract_scorer\u001b[0m \u001b[1;32mimport\u001b[0m \u001b[0mAbstractScorer\u001b[0m\u001b[1;33m\u001b[0m\u001b[0m\n\u001b[0m\u001b[0;32m      6\u001b[0m \u001b[1;32mfrom\u001b[0m \u001b[1;33m.\u001b[0m\u001b[0mscorers\u001b[0m \u001b[1;32mimport\u001b[0m \u001b[0mScorers\u001b[0m\u001b[1;33m\u001b[0m\u001b[0m\n",
            "\u001b[1;32mc:\\Users\\ebbin\\AppData\\Local\\Programs\\Python\\Python37\\lib\\site-packages\\azureml\\automl\\runtime\\scoring\\abstract_scorer.py\u001b[0m in \u001b[0;36m<module>\u001b[1;34m\u001b[0m\n\u001b[0;32m     10\u001b[0m \u001b[1;32mfrom\u001b[0m \u001b[0msklearn\u001b[0m\u001b[1;33m.\u001b[0m\u001b[0mbase\u001b[0m \u001b[1;32mimport\u001b[0m \u001b[0mBaseEstimator\u001b[0m\u001b[1;33m\u001b[0m\u001b[0m\n\u001b[0;32m     11\u001b[0m \u001b[1;33m\u001b[0m\u001b[0m\n\u001b[1;32m---> 12\u001b[1;33m \u001b[1;32mfrom\u001b[0m \u001b[0mazureml\u001b[0m\u001b[1;33m.\u001b[0m\u001b[0mautoml\u001b[0m\u001b[1;33m.\u001b[0m\u001b[0mruntime\u001b[0m\u001b[1;33m.\u001b[0m\u001b[0mshared\u001b[0m\u001b[1;33m.\u001b[0m\u001b[0mmetrics\u001b[0m \u001b[1;32mimport\u001b[0m \u001b[0mis_better\u001b[0m\u001b[1;33m\u001b[0m\u001b[0m\n\u001b[0m\u001b[0;32m     13\u001b[0m \u001b[1;33m\u001b[0m\u001b[0m\n\u001b[0;32m     14\u001b[0m \u001b[1;33m\u001b[0m\u001b[0m\n",
            "\u001b[1;32mc:\\Users\\ebbin\\AppData\\Local\\Programs\\Python\\Python37\\lib\\site-packages\\azureml\\automl\\runtime\\shared\\metrics.py\u001b[0m in \u001b[0;36m<module>\u001b[1;34m\u001b[0m\n\u001b[0;32m     16\u001b[0m \u001b[1;32mfrom\u001b[0m \u001b[0mazureml\u001b[0m\u001b[1;33m.\u001b[0m\u001b[0mautoml\u001b[0m\u001b[1;33m.\u001b[0m\u001b[0mcore\u001b[0m\u001b[1;33m.\u001b[0m\u001b[0mshared\u001b[0m \u001b[1;32mimport\u001b[0m \u001b[0mutilities\u001b[0m \u001b[1;32mas\u001b[0m \u001b[0mcore_utilities\u001b[0m\u001b[1;33m\u001b[0m\u001b[0m\n\u001b[0;32m     17\u001b[0m \u001b[1;32mfrom\u001b[0m \u001b[0mazureml\u001b[0m\u001b[1;33m.\u001b[0m\u001b[0mautoml\u001b[0m\u001b[1;33m.\u001b[0m\u001b[0mcore\u001b[0m\u001b[1;33m.\u001b[0m\u001b[0mshared\u001b[0m\u001b[1;33m.\u001b[0m\u001b[0mexceptions\u001b[0m \u001b[1;32mimport\u001b[0m \u001b[0mValidationException\u001b[0m\u001b[1;33m\u001b[0m\u001b[0m\n\u001b[1;32m---> 18\u001b[1;33m \u001b[1;32mfrom\u001b[0m \u001b[0mazureml\u001b[0m\u001b[1;33m.\u001b[0m\u001b[0mautoml\u001b[0m\u001b[1;33m.\u001b[0m\u001b[0mruntime\u001b[0m \u001b[1;32mimport\u001b[0m \u001b[0m_ml_engine\u001b[0m\u001b[1;33m\u001b[0m\u001b[0m\n\u001b[0m\u001b[0;32m     19\u001b[0m \u001b[1;32mfrom\u001b[0m \u001b[0mazureml\u001b[0m\u001b[1;33m.\u001b[0m\u001b[0mtraining\u001b[0m\u001b[1;33m.\u001b[0m\u001b[0mtabular\u001b[0m\u001b[1;33m.\u001b[0m\u001b[0mscore\u001b[0m \u001b[1;32mimport\u001b[0m \u001b[0mscoring\u001b[0m\u001b[1;33m,\u001b[0m \u001b[0mutilities\u001b[0m \u001b[1;32mas\u001b[0m \u001b[0mmetrics_utilities\u001b[0m\u001b[1;33m\u001b[0m\u001b[0m\n\u001b[0;32m     20\u001b[0m \u001b[1;33m\u001b[0m\u001b[0m\n",
            "\u001b[1;32mc:\\Users\\ebbin\\AppData\\Local\\Programs\\Python\\Python37\\lib\\site-packages\\azureml\\automl\\runtime\\_ml_engine\\__init__.py\u001b[0m in \u001b[0;36m<module>\u001b[1;34m\u001b[0m\n\u001b[0;32m      4\u001b[0m \u001b[1;34m\"\"\"Classes and methods for MLEngine.\"\"\"\u001b[0m\u001b[1;33m\u001b[0m\u001b[0m\n\u001b[0;32m      5\u001b[0m \u001b[1;33m\u001b[0m\u001b[0m\n\u001b[1;32m----> 6\u001b[1;33m \u001b[1;32mfrom\u001b[0m \u001b[1;33m.\u001b[0m\u001b[0mml_engine\u001b[0m \u001b[1;32mimport\u001b[0m \u001b[0mconvert_to_onnx\u001b[0m\u001b[1;33m,\u001b[0m \u001b[0mfeaturize\u001b[0m\u001b[1;33m,\u001b[0m \u001b[0mvalidate\u001b[0m\u001b[1;33m,\u001b[0m \u001b[0mrun_ensemble_selection\u001b[0m\u001b[1;33m\u001b[0m\u001b[0m\n\u001b[0m\u001b[0;32m      7\u001b[0m \u001b[1;32mfrom\u001b[0m \u001b[1;33m.\u001b[0m\u001b[0mtraining\u001b[0m \u001b[1;32mimport\u001b[0m \u001b[0mtrain\u001b[0m\u001b[1;33m\u001b[0m\u001b[0m\n\u001b[0;32m      8\u001b[0m \u001b[1;32mfrom\u001b[0m \u001b[1;33m.\u001b[0m\u001b[0mclassification_ml_engine\u001b[0m \u001b[1;32mimport\u001b[0m \u001b[0mevaluate_classifier\u001b[0m\u001b[1;33m\u001b[0m\u001b[0m\n",
            "\u001b[1;32mc:\\Users\\ebbin\\AppData\\Local\\Programs\\Python\\Python37\\lib\\site-packages\\azureml\\automl\\runtime\\_ml_engine\\ml_engine.py\u001b[0m in \u001b[0;36m<module>\u001b[1;34m\u001b[0m\n\u001b[0;32m     42\u001b[0m \u001b[1;32mimport\u001b[0m \u001b[0mpandas\u001b[0m \u001b[1;32mas\u001b[0m \u001b[0mpd\u001b[0m\u001b[1;33m\u001b[0m\u001b[0m\n\u001b[0;32m     43\u001b[0m \u001b[1;32mfrom\u001b[0m \u001b[0mscipy\u001b[0m \u001b[1;32mimport\u001b[0m \u001b[0msparse\u001b[0m\u001b[1;33m\u001b[0m\u001b[0m\n\u001b[1;32m---> 44\u001b[1;33m \u001b[1;32mfrom\u001b[0m \u001b[0mskl2onnx\u001b[0m\u001b[1;33m.\u001b[0m\u001b[0mproto\u001b[0m \u001b[1;32mimport\u001b[0m \u001b[0monnx_proto\u001b[0m  \u001b[1;31m# noqa: E402\u001b[0m\u001b[1;33m\u001b[0m\u001b[0m\n\u001b[0m\u001b[0;32m     45\u001b[0m \u001b[1;32mfrom\u001b[0m \u001b[0msklearn\u001b[0m\u001b[1;33m.\u001b[0m\u001b[0mbase\u001b[0m \u001b[1;32mimport\u001b[0m \u001b[0mTransformerMixin\u001b[0m\u001b[1;33m\u001b[0m\u001b[0m\n\u001b[0;32m     46\u001b[0m \u001b[1;32mfrom\u001b[0m \u001b[0msklearn\u001b[0m\u001b[1;33m.\u001b[0m\u001b[0mpipeline\u001b[0m \u001b[1;32mimport\u001b[0m \u001b[0mPipeline\u001b[0m\u001b[1;33m\u001b[0m\u001b[0m\n",
            "\u001b[1;32mc:\\Users\\ebbin\\AppData\\Local\\Programs\\Python\\Python37\\lib\\site-packages\\skl2onnx\\__init__.py\u001b[0m in \u001b[0;36m<module>\u001b[1;34m\u001b[0m\n\u001b[0;32m     16\u001b[0m \u001b[1;33m\u001b[0m\u001b[0m\n\u001b[0;32m     17\u001b[0m \u001b[1;33m\u001b[0m\u001b[0m\n\u001b[1;32m---> 18\u001b[1;33m \u001b[1;32mfrom\u001b[0m \u001b[1;33m.\u001b[0m\u001b[0mconvert\u001b[0m \u001b[1;32mimport\u001b[0m \u001b[0mconvert_sklearn\u001b[0m \u001b[1;31m# noqa\u001b[0m\u001b[1;33m\u001b[0m\u001b[0m\n\u001b[0m\u001b[0;32m     19\u001b[0m \u001b[1;32mfrom\u001b[0m \u001b[1;33m.\u001b[0m\u001b[0m_supported_operators\u001b[0m \u001b[1;32mimport\u001b[0m \u001b[0mupdate_registered_converter\u001b[0m \u001b[1;31m# noqa\u001b[0m\u001b[1;33m\u001b[0m\u001b[0m\n\u001b[0;32m     20\u001b[0m \u001b[1;32mfrom\u001b[0m \u001b[1;33m.\u001b[0m\u001b[0m_parse\u001b[0m \u001b[1;32mimport\u001b[0m \u001b[0mupdate_registered_parser\u001b[0m \u001b[1;31m# noqa\u001b[0m\u001b[1;33m\u001b[0m\u001b[0m\n",
            "\u001b[1;32mc:\\Users\\ebbin\\AppData\\Local\\Programs\\Python\\Python37\\lib\\site-packages\\skl2onnx\\convert.py\u001b[0m in \u001b[0;36m<module>\u001b[1;34m\u001b[0m\n\u001b[0;32m      6\u001b[0m \u001b[1;33m\u001b[0m\u001b[0m\n\u001b[0;32m      7\u001b[0m \u001b[1;32mfrom\u001b[0m \u001b[0muuid\u001b[0m \u001b[1;32mimport\u001b[0m \u001b[0muuid4\u001b[0m\u001b[1;33m\u001b[0m\u001b[0m\n\u001b[1;32m----> 8\u001b[1;33m \u001b[1;32mfrom\u001b[0m \u001b[1;33m.\u001b[0m\u001b[0mproto\u001b[0m \u001b[1;32mimport\u001b[0m \u001b[0mget_opset_number_from_onnx\u001b[0m\u001b[1;33m\u001b[0m\u001b[0m\n\u001b[0m\u001b[0;32m      9\u001b[0m \u001b[1;32mfrom\u001b[0m \u001b[1;33m.\u001b[0m\u001b[0mcommon\u001b[0m\u001b[1;33m.\u001b[0m\u001b[0m_topology\u001b[0m \u001b[1;32mimport\u001b[0m \u001b[0mconvert_topology\u001b[0m\u001b[1;33m\u001b[0m\u001b[0m\n\u001b[0;32m     10\u001b[0m \u001b[1;32mfrom\u001b[0m \u001b[1;33m.\u001b[0m\u001b[0m_parse\u001b[0m \u001b[1;32mimport\u001b[0m \u001b[0mparse_sklearn_model\u001b[0m\u001b[1;33m\u001b[0m\u001b[0m\n",
            "\u001b[1;32mc:\\Users\\ebbin\\AppData\\Local\\Programs\\Python\\Python37\\lib\\site-packages\\skl2onnx\\proto\\__init__.py\u001b[0m in \u001b[0;36m<module>\u001b[1;34m\u001b[0m\n\u001b[0;32m      9\u001b[0m \u001b[1;31m# fixes by overwriting ONNX functions without changing any lines\u001b[0m\u001b[1;33m\u001b[0m\u001b[1;33m\u001b[0m\u001b[0m\n\u001b[0;32m     10\u001b[0m \u001b[1;31m# elsewhere.\u001b[0m\u001b[1;33m\u001b[0m\u001b[1;33m\u001b[0m\u001b[0m\n\u001b[1;32m---> 11\u001b[1;33m \u001b[1;32mimport\u001b[0m \u001b[0monnx\u001b[0m\u001b[1;33m\u001b[0m\u001b[0m\n\u001b[0m\u001b[0;32m     12\u001b[0m \u001b[1;32mfrom\u001b[0m \u001b[0monnx\u001b[0m \u001b[1;32mimport\u001b[0m \u001b[0mhelper\u001b[0m\u001b[1;33m\u001b[0m\u001b[0m\n\u001b[0;32m     13\u001b[0m \u001b[1;32mfrom\u001b[0m \u001b[0monnx\u001b[0m \u001b[1;32mimport\u001b[0m \u001b[0monnx_pb\u001b[0m \u001b[1;32mas\u001b[0m \u001b[0monnx_proto\u001b[0m \u001b[1;31m# noqa\u001b[0m\u001b[1;33m\u001b[0m\u001b[0m\n",
            "\u001b[1;32mc:\\Users\\ebbin\\AppData\\Local\\Programs\\Python\\Python37\\lib\\site-packages\\onnx\\__init__.py\u001b[0m in \u001b[0;36m<module>\u001b[1;34m\u001b[0m\n\u001b[0;32m      4\u001b[0m \u001b[1;33m\u001b[0m\u001b[0m\n\u001b[0;32m      5\u001b[0m \u001b[1;32mfrom\u001b[0m \u001b[1;33m.\u001b[0m\u001b[0monnx_cpp2py_export\u001b[0m \u001b[1;32mimport\u001b[0m \u001b[0mONNX_ML\u001b[0m\u001b[1;33m\u001b[0m\u001b[0m\n\u001b[1;32m----> 6\u001b[1;33m \u001b[1;32mfrom\u001b[0m \u001b[0monnx\u001b[0m\u001b[1;33m.\u001b[0m\u001b[0mexternal_data_helper\u001b[0m \u001b[1;32mimport\u001b[0m \u001b[0mload_external_data_for_model\u001b[0m\u001b[1;33m,\u001b[0m \u001b[0mwrite_external_data_tensors\u001b[0m\u001b[1;33m,\u001b[0m \u001b[0mconvert_model_to_external_data\u001b[0m\u001b[1;33m\u001b[0m\u001b[0m\n\u001b[0m\u001b[0;32m      7\u001b[0m \u001b[1;32mfrom\u001b[0m \u001b[1;33m.\u001b[0m\u001b[0monnx_pb\u001b[0m \u001b[1;32mimport\u001b[0m \u001b[1;33m*\u001b[0m  \u001b[1;31m# noqa\u001b[0m\u001b[1;33m\u001b[0m\u001b[0m\n\u001b[0;32m      8\u001b[0m \u001b[1;32mfrom\u001b[0m \u001b[1;33m.\u001b[0m\u001b[0monnx_operators_pb\u001b[0m \u001b[1;32mimport\u001b[0m \u001b[1;33m*\u001b[0m \u001b[1;31m# noqa\u001b[0m\u001b[1;33m\u001b[0m\u001b[0m\n",
            "\u001b[1;32mc:\\Users\\ebbin\\AppData\\Local\\Programs\\Python\\Python37\\lib\\site-packages\\onnx\\external_data_helper.py\u001b[0m in \u001b[0;36m<module>\u001b[1;34m\u001b[0m\n\u001b[0;32m      7\u001b[0m \u001b[1;32mfrom\u001b[0m \u001b[0mtyping\u001b[0m \u001b[1;32mimport\u001b[0m \u001b[0mCallable\u001b[0m\u001b[1;33m,\u001b[0m \u001b[0mIterable\u001b[0m\u001b[1;33m,\u001b[0m \u001b[0mOptional\u001b[0m\u001b[1;33m\u001b[0m\u001b[0m\n\u001b[0;32m      8\u001b[0m \u001b[1;33m\u001b[0m\u001b[0m\n\u001b[1;32m----> 9\u001b[1;33m \u001b[1;32mfrom\u001b[0m \u001b[1;33m.\u001b[0m\u001b[0monnx_pb\u001b[0m \u001b[1;32mimport\u001b[0m \u001b[0mTensorProto\u001b[0m\u001b[1;33m,\u001b[0m \u001b[0mModelProto\u001b[0m\u001b[1;33m,\u001b[0m \u001b[0mAttributeProto\u001b[0m\u001b[1;33m,\u001b[0m \u001b[0mGraphProto\u001b[0m\u001b[1;33m\u001b[0m\u001b[0m\n\u001b[0m\u001b[0;32m     10\u001b[0m \u001b[1;33m\u001b[0m\u001b[0m\n\u001b[0;32m     11\u001b[0m \u001b[1;33m\u001b[0m\u001b[0m\n",
            "\u001b[1;32mc:\\Users\\ebbin\\AppData\\Local\\Programs\\Python\\Python37\\lib\\site-packages\\onnx\\onnx_pb.py\u001b[0m in \u001b[0;36m<module>\u001b[1;34m\u001b[0m\n\u001b[0;32m      2\u001b[0m \u001b[1;33m\u001b[0m\u001b[0m\n\u001b[0;32m      3\u001b[0m \u001b[1;33m\u001b[0m\u001b[0m\n\u001b[1;32m----> 4\u001b[1;33m \u001b[1;32mfrom\u001b[0m \u001b[1;33m.\u001b[0m\u001b[0monnx_ml_pb2\u001b[0m \u001b[1;32mimport\u001b[0m \u001b[1;33m*\u001b[0m  \u001b[1;31m# noqa\u001b[0m\u001b[1;33m\u001b[0m\u001b[0m\n\u001b[0m",
            "\u001b[1;32mc:\\Users\\ebbin\\AppData\\Local\\Programs\\Python\\Python37\\lib\\site-packages\\onnx\\onnx_ml_pb2.py\u001b[0m in \u001b[0;36m<module>\u001b[1;34m\u001b[0m\n\u001b[0;32m     35\u001b[0m       \u001b[0mserialized_options\u001b[0m\u001b[1;33m=\u001b[0m\u001b[1;32mNone\u001b[0m\u001b[1;33m,\u001b[0m\u001b[1;33m\u001b[0m\u001b[0m\n\u001b[0;32m     36\u001b[0m       \u001b[0mtype\u001b[0m\u001b[1;33m=\u001b[0m\u001b[1;32mNone\u001b[0m\u001b[1;33m,\u001b[0m\u001b[1;33m\u001b[0m\u001b[0m\n\u001b[1;32m---> 37\u001b[1;33m       create_key=_descriptor._internal_create_key),\n\u001b[0m\u001b[0;32m     38\u001b[0m     _descriptor.EnumValueDescriptor(\n\u001b[0;32m     39\u001b[0m       \u001b[0mname\u001b[0m\u001b[1;33m=\u001b[0m\u001b[1;34m'IR_VERSION_2017_10_10'\u001b[0m\u001b[1;33m,\u001b[0m \u001b[0mindex\u001b[0m\u001b[1;33m=\u001b[0m\u001b[1;36m1\u001b[0m\u001b[1;33m,\u001b[0m \u001b[0mnumber\u001b[0m\u001b[1;33m=\u001b[0m\u001b[1;36m1\u001b[0m\u001b[1;33m,\u001b[0m\u001b[1;33m\u001b[0m\u001b[0m\n",
            "\u001b[1;32mc:\\Users\\ebbin\\AppData\\Local\\Programs\\Python\\Python37\\lib\\site-packages\\google\\protobuf\\descriptor.py\u001b[0m in \u001b[0;36m__new__\u001b[1;34m(cls, name, index, number, type, options, serialized_options, create_key)\u001b[0m\n\u001b[0;32m    794\u001b[0m                 \u001b[0mtype\u001b[0m\u001b[1;33m=\u001b[0m\u001b[1;32mNone\u001b[0m\u001b[1;33m,\u001b[0m  \u001b[1;31m# pylint: disable=redefined-builtin\u001b[0m\u001b[1;33m\u001b[0m\u001b[0m\n\u001b[0;32m    795\u001b[0m                 options=None, serialized_options=None, create_key=None):\n\u001b[1;32m--> 796\u001b[1;33m       \u001b[0m_message\u001b[0m\u001b[1;33m.\u001b[0m\u001b[0mMessage\u001b[0m\u001b[1;33m.\u001b[0m\u001b[0m_CheckCalledFromGeneratedFile\u001b[0m\u001b[1;33m(\u001b[0m\u001b[1;33m)\u001b[0m\u001b[1;33m\u001b[0m\u001b[0m\n\u001b[0m\u001b[0;32m    797\u001b[0m       \u001b[1;31m# There is no way we can build a complete EnumValueDescriptor with the\u001b[0m\u001b[1;33m\u001b[0m\u001b[1;33m\u001b[0m\u001b[0m\n\u001b[0;32m    798\u001b[0m       \u001b[1;31m# given parameters (the name of the Enum is not known, for example).\u001b[0m\u001b[1;33m\u001b[0m\u001b[1;33m\u001b[0m\u001b[0m\n",
            "\u001b[1;31mTypeError\u001b[0m: Descriptors cannot not be created directly.\nIf this call came from a _pb2.py file, your generated code is out of date and must be regenerated with protoc >= 3.19.0.\nIf you cannot immediately regenerate your protos, some other possible workarounds are:\n 1. Downgrade the protobuf package to 3.20.x or lower.\n 2. Set PROTOCOL_BUFFERS_PYTHON_IMPLEMENTATION=python (but this will use pure-Python parsing and will be much slower).\n\nMore information: https://developers.google.com/protocol-buffers/docs/news/2022-05-06#python-updates"
          ]
        }
      ],
      "source": [
        "#Save the best model\n",
        "\n",
        "best_run, fitted_model = remote_run.get_output()\n",
        "\n",
        "print(\"best run details :\",best_run.get_details())\n",
        "print(\"best run file names :\",best_run.get_file_names())\n",
        "print(\"best run metrics :\",best_run.get_metrics())\n",
        "\n",
        "#save the model\n",
        "best_run.register_model(model_name = \"AutoML_best_run\", model_path = 'outputs/')\n",
        "\n",
        "print(best_run)"
      ]
    },
    {
      "attachments": {},
      "cell_type": "markdown",
      "metadata": {},
      "source": []
    }
  ],
  "metadata": {
    "kernel_info": {
      "name": "python38-azureml"
    },
    "kernelspec": {
      "display_name": "Python 3",
      "language": "python",
      "name": "python3"
    },
    "language_info": {
      "codemirror_mode": {
        "name": "ipython",
        "version": 3
      },
      "file_extension": ".py",
      "mimetype": "text/x-python",
      "name": "python",
      "nbconvert_exporter": "python",
      "pygments_lexer": "ipython3",
      "version": "3.7.0"
    },
    "microsoft": {
      "host": {
        "AzureML": {
          "notebookHasBeenCompleted": true
        }
      },
      "ms_spell_check": {
        "ms_spell_check_language": "en"
      }
    },
    "nteract": {
      "version": "nteract-front-end@1.0.0"
    }
  },
  "nbformat": 4,
  "nbformat_minor": 2
}
